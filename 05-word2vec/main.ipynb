{
 "cells": [
  {
   "cell_type": "code",
   "execution_count": 35,
   "id": "f3bcb786-2ae0-4b9a-9244-4aecd80acaa2",
   "metadata": {},
   "outputs": [],
   "source": [
    "# download the dataset\n",
    "\n",
    "import gensim.downloader as api\n",
    "\n",
    "wv = api.load('word2vec-google-news-300')"
   ]
  },
  {
   "cell_type": "code",
   "execution_count": 34,
   "id": "115562f8-8b7e-4a1d-9665-fbe7c352146d",
   "metadata": {},
   "outputs": [
    {
     "name": "stdout",
     "output_type": "stream",
     "text": [
      "word #0/3000000 is </s>\n",
      "word #1/3000000 is in\n",
      "word #2/3000000 is for\n",
      "word #3/3000000 is that\n",
      "word #4/3000000 is is\n",
      "word #5/3000000 is on\n",
      "word #6/3000000 is ##\n",
      "word #7/3000000 is The\n",
      "word #8/3000000 is with\n",
      "word #9/3000000 is said\n"
     ]
    }
   ],
   "source": [
    "# check the first 10 words\n",
    "\n",
    "for index, word in enumerate(wv.index_to_key):\n",
    "    \n",
    "    if index == 10:\n",
    "        break\n",
    "    \n",
    "    print(f\"word #{index}/{len(wv.index_to_key)} is {word}\")\n"
   ]
  },
  {
   "cell_type": "code",
   "execution_count": 41,
   "id": "87ec270f-8b39-448e-96f3-2eb809fa5654",
   "metadata": {},
   "outputs": [
    {
     "name": "stdout",
     "output_type": "stream",
     "text": [
      "(300,)\n"
     ]
    }
   ],
   "source": [
    "# Check word vector shape\n",
    "\n",
    "print(wv['king'].shape)\n",
    "# print(wv['king'])\n"
   ]
  },
  {
   "cell_type": "code",
   "execution_count": null,
   "id": "5fbe444c-18c0-461b-b9d6-0cbbb4206e25",
   "metadata": {},
   "outputs": [],
   "source": [
    "wv['king']\n",
    "wv['queen']\n",
    "wv['woman']\n",
    "wv['man']"
   ]
  },
  {
   "cell_type": "code",
   "execution_count": 46,
   "id": "ddf8b588-a4b4-4354-a1c5-a6ab2d05a579",
   "metadata": {},
   "outputs": [
    {
     "name": "stdout",
     "output_type": "stream",
     "text": [
      "0.6510956\n",
      "0.76640123\n"
     ]
    }
   ],
   "source": [
    "# Calculate \n",
    "# - king, queen\n",
    "# - man, woman\n",
    "# similarity\n",
    "\n",
    "print(wv.similarity('king', 'queen'))\n",
    "print(wv.similarity('man', 'woman'))"
   ]
  }
 ],
 "metadata": {
  "kernelspec": {
   "display_name": "Python 3 (ipykernel)",
   "language": "python",
   "name": "python3"
  },
  "language_info": {
   "codemirror_mode": {
    "name": "ipython",
    "version": 3
   },
   "file_extension": ".py",
   "mimetype": "text/x-python",
   "name": "python",
   "nbconvert_exporter": "python",
   "pygments_lexer": "ipython3",
   "version": "3.12.4"
  }
 },
 "nbformat": 4,
 "nbformat_minor": 5
}
