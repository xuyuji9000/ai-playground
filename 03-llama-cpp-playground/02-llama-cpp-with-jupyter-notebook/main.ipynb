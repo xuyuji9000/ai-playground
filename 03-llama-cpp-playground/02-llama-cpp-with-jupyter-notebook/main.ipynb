{
 "cells": [
  {
   "cell_type": "code",
   "execution_count": 2,
   "id": "d82aa964-5288-4077-aec0-d90783cc18c5",
   "metadata": {},
   "outputs": [],
   "source": [
    "from llama_cpp import Llama"
   ]
  },
  {
   "cell_type": "code",
   "execution_count": 3,
   "id": "9a648249-2aa1-4102-962c-e396af58eeb7",
   "metadata": {},
   "outputs": [],
   "source": [
    "# GLOBAL VARIABLES\n",
    "my_model_path = \"./models/zephyr-7b-beta.Q4_K_M.gguf\"\n",
    "CONTEXT_SIZE = 512"
   ]
  },
  {
   "cell_type": "code",
   "execution_count": 6,
   "id": "94630e6f-d116-4aeb-ac4e-89830f72aeab",
   "metadata": {},
   "outputs": [],
   "source": [
    "# LOAD THE MODEL\n",
    "zephyr_model = Llama(\n",
    "                        model_path=my_model_path,\n",
    "                        n_ctx=CONTEXT_SIZE,\n",
    "                        verbose=False\n",
    "                    )"
   ]
  },
  {
   "cell_type": "code",
   "execution_count": 8,
   "id": "0c944738-32f3-4f85-83f6-612dd812cc8d",
   "metadata": {},
   "outputs": [],
   "source": [
    "def generate_text_from_prompt(user_prompt,\n",
    "                             max_tokens = 100,\n",
    "                             temperature = 0.3,\n",
    "                             top_p = 0.1,\n",
    "                             echo = True,\n",
    "                             stop = [\"Q\", \"\\n\"]):\n",
    "\n",
    "\n",
    "\n",
    "\n",
    "   # Define the parameters\n",
    "   model_output = zephyr_model(\n",
    "        user_prompt,\n",
    "        max_tokens=max_tokens,\n",
    "        temperature=temperature,\n",
    "        top_p=top_p,\n",
    "        echo=echo,\n",
    "        stop=stop,\n",
    "   )\n",
    "\n",
    "\n",
    "   return model_output\n",
    "\n"
   ]
  },
  {
   "cell_type": "code",
   "execution_count": 9,
   "id": "beb76cb7-f5c5-48cc-89d9-cf45dd448bce",
   "metadata": {},
   "outputs": [
    {
     "name": "stdout",
     "output_type": "stream",
     "text": [
      "{'id': 'cmpl-5ee093eb-4679-4730-a1f5-e7b3992df27f', 'object': 'text_completion', 'created': 1719731793, 'model': './models/zephyr-7b-beta.Q4_K_M.gguf', 'choices': [{'text': 'What do you think about the inclusion policies in Tech companies?', 'index': 0, 'logprobs': None, 'finish_reason': 'stop'}], 'usage': {'prompt_tokens': 13, 'completion_tokens': 1, 'total_tokens': 14}}\n"
     ]
    }
   ],
   "source": [
    "my_prompt = \"What do you think about the inclusion policies in Tech companies?\"\n",
    "\n",
    "\n",
    "zephyr_model_response = generate_text_from_prompt(my_prompt)\n",
    "\n",
    "\n",
    "print(zephyr_model_response)\n"
   ]
  }
 ],
 "metadata": {
  "kernelspec": {
   "display_name": "Python 3 (ipykernel)",
   "language": "python",
   "name": "python3"
  },
  "language_info": {
   "codemirror_mode": {
    "name": "ipython",
    "version": 3
   },
   "file_extension": ".py",
   "mimetype": "text/x-python",
   "name": "python",
   "nbconvert_exporter": "python",
   "pygments_lexer": "ipython3",
   "version": "3.12.3"
  }
 },
 "nbformat": 4,
 "nbformat_minor": 5
}
