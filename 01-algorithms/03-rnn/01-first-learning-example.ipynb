{
 "cells": [
  {
   "cell_type": "markdown",
   "id": "9fa6f214-0808-40dc-bbca-77e484ee9c91",
   "metadata": {},
   "source": [
    "Refer to this [article](https://www.geeksforgeeks.org/implementing-recurrent-neural-networks-in-pytorch/)."
   ]
  },
  {
   "cell_type": "markdown",
   "id": "02fef190-7bce-442c-a2f2-bd6e6fb8ff61",
   "metadata": {},
   "source": [
    "# Step 1: Import Libraries"
   ]
  },
  {
   "cell_type": "code",
   "execution_count": 1,
   "id": "0dab4061-3b9a-46c9-8e0e-15afe3de3c91",
   "metadata": {},
   "outputs": [],
   "source": [
    "import torch\n",
    "import torch.nn as nn\n",
    "import torch.optim as optim\n",
    "import numpy as np\n",
    "import matplotlib.pyplot as plt"
   ]
  },
  {
   "cell_type": "markdown",
   "id": "792ba2be-3373-4373-9c39-f01997869a03",
   "metadata": {},
   "source": [
    "# Step 2: Create Synthetic Dataset"
   ]
  },
  {
   "cell_type": "code",
   "execution_count": 4,
   "id": "4191dd6a-f312-412b-883e-26690bb1119c",
   "metadata": {},
   "outputs": [
    {
     "name": "stdout",
     "output_type": "stream",
     "text": [
      "torch.Size([1000, 50]) torch.Size([1000, 50])\n"
     ]
    }
   ],
   "source": [
    "# Generate sine wave data\n",
    "def generate_data(seq_length, num_samples):\n",
    "    X = []\n",
    "    y = []\n",
    "    for i in range(num_samples):\n",
    "        x = np.linspace(i * 2 * np.pi, (i + 1) * 2 * np.pi, seq_length + 1)\n",
    "        sine_wave = np.sin(x)\n",
    "        X.append(sine_wave[:-1])  # input sequence\n",
    "        y.append(sine_wave[1:])   # target sequence\n",
    "    return np.array(X), np.array(y)\n",
    "\n",
    "seq_length = 50\n",
    "num_samples = 1000\n",
    "X, y = generate_data(seq_length, num_samples)\n",
    "\n",
    "# Convert to PyTorch tensors\n",
    "X = torch.tensor(X, dtype=torch.float32)\n",
    "y = torch.tensor(y, dtype=torch.float32)\n",
    "\n",
    "print(X.shape, y.shape)  # Output: (1000, 50), (1000, 50)"
   ]
  },
  {
   "cell_type": "markdown",
   "id": "527a85f8-fcc6-4e17-92d1-266fc015249c",
   "metadata": {},
   "source": [
    "# Step 3: Define the RNN Model"
   ]
  },
  {
   "cell_type": "code",
   "execution_count": 8,
   "id": "9f6b8664-5f53-42b8-9411-afdbd059c53e",
   "metadata": {},
   "outputs": [
    {
     "data": {
      "text/plain": [
       "SimpleRNN(\n",
       "  (rnn): RNN(1, 20, batch_first=True)\n",
       "  (fc): Linear(in_features=20, out_features=1, bias=True)\n",
       ")"
      ]
     },
     "execution_count": 8,
     "metadata": {},
     "output_type": "execute_result"
    }
   ],
   "source": [
    "class SimpleRNN(nn.Module):\n",
    "    def __init__(self, input_size, hidden_size, output_size):\n",
    "        super(SimpleRNN, self).__init__()\n",
    "        self.rnn = nn.RNN(input_size, hidden_size, batch_first=True)\n",
    "        self.fc = nn.Linear(hidden_size, output_size)\n",
    "    \n",
    "    def forward(self, x):\n",
    "        h0 = torch.zeros(1, x.size(0), hidden_size).to(x.device)\n",
    "        out, _ = self.rnn(x, h0)\n",
    "        out = self.fc(out)\n",
    "        return out\n",
    "\n",
    "input_size = 1\n",
    "hidden_size = 20\n",
    "output_size = 1\n",
    "model = SimpleRNN(input_size, hidden_size, output_size)\n",
    "model"
   ]
  },
  {
   "cell_type": "markdown",
   "id": "0b43ec5d-1efa-4701-a30c-02621cb6a0b6",
   "metadata": {},
   "source": [
    "# Step 4: Train the Model\n"
   ]
  },
  {
   "cell_type": "code",
   "execution_count": null,
   "id": "167e47ae-d95d-49aa-ba5e-dd96fe197c13",
   "metadata": {},
   "outputs": [],
   "source": [
    "criterion = nn.MSELoss()\n",
    "optimizer = optim.Adam(model.parameters(), lr=0.001)\n",
    "\n",
    "# Training loop\n",
    "num_epochs = 100\n",
    "for epoch in range(num_epochs):\n",
    "    model.train()\n",
    "    outputs = model(X.unsqueeze(2))  # Add a dimension for input size\n",
    "    loss = criterion(outputs, y.unsqueeze(2))\n",
    "    \n",
    "    optimizer.zero_grad()\n",
    "    loss.backward()\n",
    "    optimizer.step()\n",
    "    \n",
    "    if (epoch + 1) % 10 == 0:\n",
    "        print(f'Epoch [{epoch+1}/{num_epochs}], Loss: {loss.item():.4f}')"
   ]
  }
 ],
 "metadata": {
  "kernelspec": {
   "display_name": "Python 3 (ipykernel)",
   "language": "python",
   "name": "python3"
  },
  "language_info": {
   "codemirror_mode": {
    "name": "ipython",
    "version": 3
   },
   "file_extension": ".py",
   "mimetype": "text/x-python",
   "name": "python",
   "nbconvert_exporter": "python",
   "pygments_lexer": "ipython3",
   "version": "3.12.7"
  }
 },
 "nbformat": 4,
 "nbformat_minor": 5
}
