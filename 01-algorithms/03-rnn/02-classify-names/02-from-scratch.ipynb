{
 "cells": [
  {
   "cell_type": "markdown",
   "id": "cce5b82b-42b6-4db9-9633-369cde849969",
   "metadata": {},
   "source": [
    "Refer to this [article](https://jaketae.github.io/study/pytorch-rnn/).\n"
   ]
  },
  {
   "cell_type": "markdown",
   "id": "f355715b-d2ba-4cef-b615-aeba143d29f3",
   "metadata": {},
   "source": [
    "# Step 1. Download Data"
   ]
  },
  {
   "cell_type": "code",
   "execution_count": 1,
   "id": "b6f4281b-bd8c-4f93-8398-6bb7f1ca625e",
   "metadata": {},
   "outputs": [],
   "source": [
    "import os\n",
    "import random\n",
    "from string import ascii_letters\n",
    "\n",
    "import torch\n",
    "from torch import nn\n",
    "import torch.nn.functional as F\n",
    "from unidecode import unidecode\n",
    "\n",
    "_ = torch.manual_seed(42)\n",
    "device = torch.device(\n",
    "    \"cuda\" if torch.cuda.is_available() \n",
    "    else \"cpu\"\n",
    ")\n"
   ]
  },
  {
   "cell_type": "code",
   "execution_count": 23,
   "id": "3f790870-21d6-492d-a15f-673cde729540",
   "metadata": {
    "scrolled": true
   },
   "outputs": [
    {
     "data": {
      "text/plain": [
       "{'Czech': tensor([0]),\n",
       " 'German': tensor([1]),\n",
       " 'Arabic': tensor([2]),\n",
       " 'Japanese': tensor([3]),\n",
       " 'Chinese': tensor([4]),\n",
       " 'Vietnamese': tensor([5]),\n",
       " 'Russian': tensor([6]),\n",
       " 'French': tensor([7]),\n",
       " 'Irish': tensor([8]),\n",
       " 'English': tensor([9]),\n",
       " 'Spanish': tensor([10]),\n",
       " 'Greek': tensor([11]),\n",
       " 'Italian': tensor([12]),\n",
       " 'Portuguese': tensor([13]),\n",
       " 'Scottish': tensor([14]),\n",
       " 'Dutch': tensor([15]),\n",
       " 'Korean': tensor([16]),\n",
       " 'Polish': tensor([17])}"
      ]
     },
     "metadata": {},
     "output_type": "display_data"
    },
    {
     "name": "stdout",
     "output_type": "stream",
     "text": [
      "num_langs: 18\n"
     ]
    }
   ],
   "source": [
    "# Step 1.1.\n",
    "# Prepare labels\n",
    "data_dir = \"./data/data/names\"\n",
    "\n",
    "\n",
    "\n",
    "lang2label = {\n",
    "    file_name.split(\".\")[0]: torch.tensor([i], dtype=torch.long)\n",
    "    for i, file_name in enumerate(os.listdir(data_dir))\n",
    "}\n",
    "\n",
    "num_langs = len(lang2label)\n",
    "\n",
    "display(lang2label)\n",
    "print(f'num_langs: {num_langs}')"
   ]
  },
  {
   "cell_type": "markdown",
   "id": "6fd7b1db-d58a-46b0-940d-bf11e7a32901",
   "metadata": {},
   "source": [
    "# Step 2. Preprocessing"
   ]
  },
  {
   "cell_type": "code",
   "execution_count": 24,
   "id": "679c4b82-b6c5-4ad0-9dfa-1a6713047d7a",
   "metadata": {},
   "outputs": [
    {
     "data": {
      "text/plain": [
       "'Slusarski'"
      ]
     },
     "execution_count": 24,
     "metadata": {},
     "output_type": "execute_result"
    }
   ],
   "source": [
    "unidecode(\"Ślusàrski\")\n"
   ]
  },
  {
   "cell_type": "code",
   "execution_count": 77,
   "id": "23e6412a-826a-449a-b7b6-eb2c5006664a",
   "metadata": {
    "scrolled": true
   },
   "outputs": [
    {
     "name": "stdout",
     "output_type": "stream",
     "text": [
      "num_letters: 59\n"
     ]
    }
   ],
   "source": [
    "char2idx = {\n",
    "    letter: i \n",
    "    for i, letter in enumerate(ascii_letters + \" .,:;-'\")\n",
    "}\n",
    "\n",
    "idx2char = {\n",
    "    i: letter\n",
    "    for letter, i in char2idx.items()\n",
    "}\n",
    "\n",
    "num_letters = len(char2idx); \n",
    "\n",
    "\n",
    "print(f'num_letters: {num_letters}')"
   ]
  },
  {
   "cell_type": "code",
   "execution_count": 32,
   "id": "91177993-ed31-4eb9-b070-0bac01671b55",
   "metadata": {},
   "outputs": [
    {
     "data": {
      "text/plain": [
       "tensor([[[1., 0., 0., 0., 0., 0., 0., 0., 0., 0., 0., 0., 0., 0., 0., 0., 0.,\n",
       "          0., 0., 0., 0., 0., 0., 0., 0., 0., 0., 0., 0., 0., 0., 0., 0., 0.,\n",
       "          0., 0., 0., 0., 0., 0., 0., 0., 0., 0., 0., 0., 0., 0., 0., 0., 0.,\n",
       "          0., 0., 0., 0., 0., 0., 0., 0.]],\n",
       "\n",
       "        [[0., 1., 0., 0., 0., 0., 0., 0., 0., 0., 0., 0., 0., 0., 0., 0., 0.,\n",
       "          0., 0., 0., 0., 0., 0., 0., 0., 0., 0., 0., 0., 0., 0., 0., 0., 0.,\n",
       "          0., 0., 0., 0., 0., 0., 0., 0., 0., 0., 0., 0., 0., 0., 0., 0., 0.,\n",
       "          0., 0., 0., 0., 0., 0., 0., 0.]],\n",
       "\n",
       "        [[0., 0., 1., 0., 0., 0., 0., 0., 0., 0., 0., 0., 0., 0., 0., 0., 0.,\n",
       "          0., 0., 0., 0., 0., 0., 0., 0., 0., 0., 0., 0., 0., 0., 0., 0., 0.,\n",
       "          0., 0., 0., 0., 0., 0., 0., 0., 0., 0., 0., 0., 0., 0., 0., 0., 0.,\n",
       "          0., 0., 0., 0., 0., 0., 0., 0.]]])"
      ]
     },
     "execution_count": 32,
     "metadata": {},
     "output_type": "execute_result"
    }
   ],
   "source": [
    "# Step 3.1\n",
    "# Convert name string to a list one-hot encoding\n",
    "def name2tensor(name):\n",
    "    tensor = torch.zeros(len(name), 1, num_letters)\n",
    "    for i, char in enumerate(name):\n",
    "        tensor[i][0][char2idx[char]] = 1\n",
    "    return tensor\n",
    "\n",
    "name2tensor('abc')"
   ]
  },
  {
   "cell_type": "markdown",
   "id": "d1473243-84cf-47db-b4db-10525b724a81",
   "metadata": {},
   "source": [
    "# Step 4. Dataset Creation\n"
   ]
  },
  {
   "cell_type": "code",
   "execution_count": 92,
   "id": "a803215d-13b3-433b-9320-7bc851143927",
   "metadata": {
    "scrolled": true
   },
   "outputs": [],
   "source": [
    "# Step 4.1\n",
    "# From files\n",
    "# Prepare name tenor and label tensor\n",
    "\n",
    "tensor_names = []\n",
    "target_langs = []\n",
    "\n",
    "for file in os.listdir(data_dir):\n",
    "    with open(os.path.join(data_dir, file)) as f:\n",
    "        lang = file.split(\".\")[0]\n",
    "        names = [unidecode(line.rstrip()) for line in f]\n",
    "        for name in names:\n",
    "            try:\n",
    "                tensor_names.append(name2tensor(name))\n",
    "                target_langs.append(lang2label[lang])\n",
    "            except KeyError:\n",
    "                pass\n"
   ]
  },
  {
   "cell_type": "code",
   "execution_count": 91,
   "id": "19d561eb-db62-4588-8d12-654694f768c5",
   "metadata": {
    "scrolled": true
   },
   "outputs": [],
   "source": [
    "# Step 4.2\n",
    "# split tensors into \n",
    "# - training set \n",
    "# - and test set\n",
    "\n",
    "from sklearn.model_selection import train_test_split\n",
    "\n",
    "train_idx, test_idx = train_test_split(\n",
    "    range(len(target_langs)), \n",
    "    test_size=0.1, \n",
    "    shuffle=True, \n",
    "    stratify=target_langs\n",
    ")\n",
    "\n",
    "train_dataset = [\n",
    "    (tensor_names[i], target_langs[i])\n",
    "    for i in train_idx\n",
    "]\n",
    "\n",
    "test_dataset = [\n",
    "    (tensor_names[i], target_langs[i])\n",
    "    for i in test_idx\n",
    "]\n",
    "\n"
   ]
  },
  {
   "cell_type": "code",
   "execution_count": 115,
   "id": "a16223ba-98b7-4552-9099-808e0b50f560",
   "metadata": {},
   "outputs": [
    {
     "name": "stdout",
     "output_type": "stream",
     "text": [
      "Dale\n"
     ]
    }
   ],
   "source": [
    "# Step 4.3 \n",
    "# Reconstruct 1 name string from a list of one-hot encodings\n",
    "\n",
    "name = ''\n",
    "for vector in train_dataset[0][0]:\n",
    "    \n",
    "    \n",
    "    idx = torch.multinomial(\n",
    "        vector[0],\n",
    "        num_samples=1, \n",
    "        replacement=True).item()\n",
    "    name+=idx2char[idx]\n",
    "    \n",
    "print(name)\n",
    "\n",
    "\n"
   ]
  }
 ],
 "metadata": {
  "kernelspec": {
   "display_name": "Python 3 (ipykernel)",
   "language": "python",
   "name": "python3"
  },
  "language_info": {
   "codemirror_mode": {
    "name": "ipython",
    "version": 3
   },
   "file_extension": ".py",
   "mimetype": "text/x-python",
   "name": "python",
   "nbconvert_exporter": "python",
   "pygments_lexer": "ipython3",
   "version": "3.12.7"
  }
 },
 "nbformat": 4,
 "nbformat_minor": 5
}
