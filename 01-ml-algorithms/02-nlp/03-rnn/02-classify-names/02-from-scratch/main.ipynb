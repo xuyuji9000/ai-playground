{
 "cells": [
  {
   "cell_type": "markdown",
   "id": "cce5b82b-42b6-4db9-9633-369cde849969",
   "metadata": {},
   "source": [
    "Refer to this [article](https://jaketae.github.io/study/pytorch-rnn/).\n"
   ]
  },
  {
   "cell_type": "markdown",
   "id": "f355715b-d2ba-4cef-b615-aeba143d29f3",
   "metadata": {},
   "source": [
    "# Step 1. Download Data"
   ]
  },
  {
   "cell_type": "code",
   "execution_count": 1,
   "id": "b6f4281b-bd8c-4f93-8398-6bb7f1ca625e",
   "metadata": {},
   "outputs": [],
   "source": [
    "import os\n",
    "import random\n",
    "from string import ascii_letters\n",
    "\n",
    "import torch\n",
    "from torch import nn\n",
    "import torch.nn.functional as F\n",
    "from unidecode import unidecode\n",
    "\n",
    "_ = torch.manual_seed(42)\n",
    "device = torch.device(\n",
    "    \"cuda\" if torch.cuda.is_available() \n",
    "    else \"cpu\"\n",
    ")\n"
   ]
  },
  {
   "cell_type": "code",
   "execution_count": 2,
   "id": "3f790870-21d6-492d-a15f-673cde729540",
   "metadata": {
    "scrolled": true
   },
   "outputs": [
    {
     "data": {
      "text/plain": [
       "{0: 'Czech',\n",
       " 1: 'German',\n",
       " 2: 'Arabic',\n",
       " 3: 'Japanese',\n",
       " 4: 'Chinese',\n",
       " 5: 'Vietnamese',\n",
       " 6: 'Russian',\n",
       " 7: 'French',\n",
       " 8: 'Irish',\n",
       " 9: 'English',\n",
       " 10: 'Spanish',\n",
       " 11: 'Greek',\n",
       " 12: 'Italian',\n",
       " 13: 'Portuguese',\n",
       " 14: 'Scottish',\n",
       " 15: 'Dutch',\n",
       " 16: 'Korean',\n",
       " 17: 'Polish'}"
      ]
     },
     "execution_count": 2,
     "metadata": {},
     "output_type": "execute_result"
    }
   ],
   "source": [
    "# Step 1.1.\n",
    "# Prepare labels\n",
    "data_dir = \"./data/data/names\"\n",
    "\n",
    "\n",
    "\n",
    "lang2label = {\n",
    "    file_name.split(\".\")[0]: torch.tensor([i], dtype=torch.long)\n",
    "    for i, file_name in enumerate(os.listdir(data_dir))\n",
    "}\n",
    "\n",
    "label2lang = {\n",
    "    label.item(): lang\n",
    "    for lang, label in lang2label.items()\n",
    "}\n",
    "\n",
    "\n",
    "\n",
    "\n",
    "num_langs = len(lang2label)\n",
    "label2lang"
   ]
  },
  {
   "cell_type": "markdown",
   "id": "6fd7b1db-d58a-46b0-940d-bf11e7a32901",
   "metadata": {},
   "source": [
    "# Step 2. Preprocessing"
   ]
  },
  {
   "cell_type": "code",
   "execution_count": 3,
   "id": "679c4b82-b6c5-4ad0-9dfa-1a6713047d7a",
   "metadata": {},
   "outputs": [
    {
     "data": {
      "text/plain": [
       "'Slusarski'"
      ]
     },
     "execution_count": 3,
     "metadata": {},
     "output_type": "execute_result"
    }
   ],
   "source": [
    "unidecode(\"Ślusàrski\")\n"
   ]
  },
  {
   "cell_type": "code",
   "execution_count": 4,
   "id": "23e6412a-826a-449a-b7b6-eb2c5006664a",
   "metadata": {
    "scrolled": true
   },
   "outputs": [
    {
     "name": "stdout",
     "output_type": "stream",
     "text": [
      "num_letters: 59\n"
     ]
    }
   ],
   "source": [
    "char2idx = {\n",
    "    letter: i \n",
    "    for i, letter in enumerate(ascii_letters + \" .,:;-'\")\n",
    "}\n",
    "\n",
    "idx2char = {\n",
    "    i: letter\n",
    "    for letter, i in char2idx.items()\n",
    "}\n",
    "\n",
    "num_letters = len(char2idx); \n",
    "\n",
    "\n",
    "print(f'num_letters: {num_letters}')"
   ]
  },
  {
   "cell_type": "code",
   "execution_count": 5,
   "id": "91177993-ed31-4eb9-b070-0bac01671b55",
   "metadata": {},
   "outputs": [
    {
     "data": {
      "text/plain": [
       "tensor([[[1., 0., 0., 0., 0., 0., 0., 0., 0., 0., 0., 0., 0., 0., 0., 0., 0.,\n",
       "          0., 0., 0., 0., 0., 0., 0., 0., 0., 0., 0., 0., 0., 0., 0., 0., 0.,\n",
       "          0., 0., 0., 0., 0., 0., 0., 0., 0., 0., 0., 0., 0., 0., 0., 0., 0.,\n",
       "          0., 0., 0., 0., 0., 0., 0., 0.]],\n",
       "\n",
       "        [[0., 1., 0., 0., 0., 0., 0., 0., 0., 0., 0., 0., 0., 0., 0., 0., 0.,\n",
       "          0., 0., 0., 0., 0., 0., 0., 0., 0., 0., 0., 0., 0., 0., 0., 0., 0.,\n",
       "          0., 0., 0., 0., 0., 0., 0., 0., 0., 0., 0., 0., 0., 0., 0., 0., 0.,\n",
       "          0., 0., 0., 0., 0., 0., 0., 0.]],\n",
       "\n",
       "        [[0., 0., 1., 0., 0., 0., 0., 0., 0., 0., 0., 0., 0., 0., 0., 0., 0.,\n",
       "          0., 0., 0., 0., 0., 0., 0., 0., 0., 0., 0., 0., 0., 0., 0., 0., 0.,\n",
       "          0., 0., 0., 0., 0., 0., 0., 0., 0., 0., 0., 0., 0., 0., 0., 0., 0.,\n",
       "          0., 0., 0., 0., 0., 0., 0., 0.]]])"
      ]
     },
     "execution_count": 5,
     "metadata": {},
     "output_type": "execute_result"
    }
   ],
   "source": [
    "# Step 3.1\n",
    "# Convert name string to a list one-hot encoding\n",
    "def name2tensor(name):\n",
    "    tensor = torch.zeros(len(name), 1, num_letters)\n",
    "    for i, char in enumerate(name):\n",
    "        tensor[i][0][char2idx[char]] = 1\n",
    "    return tensor\n",
    "\n",
    "name2tensor('abc')"
   ]
  },
  {
   "cell_type": "markdown",
   "id": "d1473243-84cf-47db-b4db-10525b724a81",
   "metadata": {},
   "source": [
    "# Step 4. Dataset Creation\n"
   ]
  },
  {
   "cell_type": "code",
   "execution_count": 6,
   "id": "a803215d-13b3-433b-9320-7bc851143927",
   "metadata": {
    "scrolled": true
   },
   "outputs": [],
   "source": [
    "# Step 4.1\n",
    "# From files\n",
    "# Prepare name tenor and label tensor\n",
    "\n",
    "tensor_names = []\n",
    "target_langs = []\n",
    "\n",
    "for file in os.listdir(data_dir):\n",
    "    with open(os.path.join(data_dir, file)) as f:\n",
    "        lang = file.split(\".\")[0]\n",
    "        names = [unidecode(line.rstrip()) for line in f]\n",
    "        for name in names:\n",
    "            try:\n",
    "                tensor_names.append(name2tensor(name))\n",
    "                target_langs.append(lang2label[lang])\n",
    "            except KeyError:\n",
    "                pass\n"
   ]
  },
  {
   "cell_type": "code",
   "execution_count": 7,
   "id": "19d561eb-db62-4588-8d12-654694f768c5",
   "metadata": {
    "scrolled": true
   },
   "outputs": [
    {
     "name": "stdout",
     "output_type": "stream",
     "text": [
      "Train: 18063\n",
      "Test: 2007\n"
     ]
    }
   ],
   "source": [
    "# Step 4.2\n",
    "# split tensors into \n",
    "# - training set \n",
    "# - and test set\n",
    "\n",
    "from sklearn.model_selection import train_test_split\n",
    "\n",
    "train_idx, test_idx = train_test_split(\n",
    "    range(len(target_langs)), \n",
    "    test_size=0.1, \n",
    "    shuffle=True, \n",
    "    stratify=target_langs\n",
    ")\n",
    "\n",
    "train_dataset = [\n",
    "    (tensor_names[i], target_langs[i])\n",
    "    for i in train_idx\n",
    "]\n",
    "\n",
    "test_dataset = [\n",
    "    (tensor_names[i], target_langs[i])\n",
    "    for i in test_idx\n",
    "]\n",
    "\n",
    "print(f\"Train: {len(train_dataset)}\")\n",
    "print(f\"Test: {len(test_dataset)}\")\n"
   ]
  },
  {
   "cell_type": "code",
   "execution_count": 8,
   "id": "a16223ba-98b7-4552-9099-808e0b50f560",
   "metadata": {},
   "outputs": [
    {
     "name": "stdout",
     "output_type": "stream",
     "text": [
      "Prigov\n"
     ]
    }
   ],
   "source": [
    "# Step 4.3 \n",
    "# Reconstruct 1 name string from a list of one-hot encodings\n",
    "\n",
    "name = ''\n",
    "for vector in train_dataset[0][0]:\n",
    "    \n",
    "    \n",
    "    idx = torch.multinomial(\n",
    "        vector[0],\n",
    "        num_samples=1, \n",
    "        replacement=True).item()\n",
    "    name+=idx2char[idx]\n",
    "    \n",
    "print(name)\n",
    "\n",
    "\n"
   ]
  },
  {
   "cell_type": "markdown",
   "id": "c64cb239-b87f-42f2-8c4a-b18f1a532560",
   "metadata": {},
   "source": [
    "# Step 5. Model"
   ]
  },
  {
   "cell_type": "markdown",
   "id": "56e02171-7c5c-4ea0-8d77-5cabde5937c6",
   "metadata": {},
   "source": [
    "## Simple RNN\n",
    "\n",
    "1. A simple diagram of RNN\n",
    "\n",
    "    ![01-simple-rnn-diagram](./images/01-simple-rnn-diagram.png)\n",
    "\n",
    "\n",
    "2. RNN predict language of a vocabulary\n",
    "\n",
    "    ![02-rnn-predict-language-of-a-vocabulary](./images/02-rnn-predict-language-of-a-vocabulary.png)"
   ]
  },
  {
   "cell_type": "code",
   "execution_count": 9,
   "id": "37a381ae-d80a-448c-88ad-188947a51797",
   "metadata": {},
   "outputs": [],
   "source": [
    "# Step 5.1 \n",
    "# Define model\n",
    "class MyRNN(nn.Module):\n",
    "    def __init__(self, input_size, hidden_size, output_size):\n",
    "        super(MyRNN, self).__init__()\n",
    "        self.hidden_size = hidden_size\n",
    "        self.in2hidden = nn.Linear(input_size + hidden_size, hidden_size)\n",
    "        self.in2output = nn.Linear(input_size + hidden_size, output_size)\n",
    "    \n",
    "    def forward(self, x, hidden_state):\n",
    "        combined = torch.cat((x, hidden_state), 1)\n",
    "        hidden = torch.sigmoid(self.in2hidden(combined))\n",
    "        output = self.in2output(combined)\n",
    "        return output, hidden\n",
    "    \n",
    "    def init_hidden(self):\n",
    "        return nn.init.kaiming_uniform_(torch.empty(1, self.hidden_size))"
   ]
  },
  {
   "cell_type": "code",
   "execution_count": 10,
   "id": "79b43dc7-d2e8-4b5a-8306-c77f79e52a07",
   "metadata": {},
   "outputs": [],
   "source": [
    "# Step 5.2\n",
    "# - Initialize model\n",
    "# - Prepare Loss function\n",
    "# - Prepare gradient descent function\n",
    "\n",
    "hidden_size = 256\n",
    "learning_rate = 0.001\n",
    "\n",
    "model = MyRNN(num_letters, hidden_size, num_langs)\n",
    "criterion = nn.CrossEntropyLoss()\n",
    "optimizer = torch.optim.Adam(model.parameters(), lr=learning_rate)"
   ]
  },
  {
   "cell_type": "code",
   "execution_count": 26,
   "id": "b81fd819-0f8a-4074-bcfe-9e4e47a4d663",
   "metadata": {},
   "outputs": [
    {
     "name": "stdout",
     "output_type": "stream",
     "text": [
      "tensor([[-17.9011, -16.1696, -37.0570, -25.3422, -31.3286, -25.8627, -21.8149,\n",
      "         -16.1815, -21.9011,  -9.0964, -19.3889, -20.1110, -25.4340, -30.0159,\n",
      "         -15.5548, -17.2972, -22.6951, -23.5569]], grad_fn=<AddmmBackward0>)\n"
     ]
    },
    {
     "data": {
      "text/plain": [
       "tensor([9])"
      ]
     },
     "execution_count": 26,
     "metadata": {},
     "output_type": "execute_result"
    }
   ],
   "source": [
    "name, label = train_dataset[0]\n",
    "\n",
    "hidden_state = model.init_hidden()\n",
    "\n",
    "for char in name:\n",
    "    output, hidden_state = model(char, hidden_state)\n",
    "\n",
    "print(output)\n",
    "loss = criterion(output, label)\n",
    "\n",
    "label"
   ]
  },
  {
   "cell_type": "code",
   "execution_count": 11,
   "id": "2d69e45d-a156-4237-a48b-5a111358d6a6",
   "metadata": {
    "scrolled": true
   },
   "outputs": [
    {
     "name": "stdout",
     "output_type": "stream",
     "text": [
      "Epoch [1/10], Step [3000/18063], Loss: 4.3870\n",
      "Epoch [1/10], Step [6000/18063], Loss: 0.6024\n",
      "Epoch [1/10], Step [9000/18063], Loss: 1.7229\n",
      "Epoch [1/10], Step [12000/18063], Loss: 3.7423\n",
      "Epoch [1/10], Step [15000/18063], Loss: 3.2060\n",
      "Epoch [1/10], Step [18000/18063], Loss: 0.2994\n",
      "Epoch [2/10], Step [3000/18063], Loss: 0.2163\n",
      "Epoch [2/10], Step [6000/18063], Loss: 0.2159\n",
      "Epoch [2/10], Step [9000/18063], Loss: 0.0942\n",
      "Epoch [2/10], Step [12000/18063], Loss: 2.0435\n",
      "Epoch [2/10], Step [15000/18063], Loss: 0.0017\n",
      "Epoch [2/10], Step [18000/18063], Loss: 0.3208\n",
      "Epoch [3/10], Step [3000/18063], Loss: 3.2071\n",
      "Epoch [3/10], Step [6000/18063], Loss: 0.0001\n",
      "Epoch [3/10], Step [9000/18063], Loss: 0.0205\n",
      "Epoch [3/10], Step [12000/18063], Loss: 0.0002\n",
      "Epoch [3/10], Step [15000/18063], Loss: 6.1180\n",
      "Epoch [3/10], Step [18000/18063], Loss: 1.4174\n",
      "Epoch [4/10], Step [3000/18063], Loss: 4.9398\n",
      "Epoch [4/10], Step [6000/18063], Loss: 0.3027\n",
      "Epoch [4/10], Step [9000/18063], Loss: 0.2370\n",
      "Epoch [4/10], Step [12000/18063], Loss: 0.4020\n",
      "Epoch [4/10], Step [15000/18063], Loss: 0.0000\n",
      "Epoch [4/10], Step [18000/18063], Loss: 0.0000\n",
      "Epoch [5/10], Step [3000/18063], Loss: 0.0025\n",
      "Epoch [5/10], Step [6000/18063], Loss: 0.0000\n",
      "Epoch [5/10], Step [9000/18063], Loss: 0.0476\n",
      "Epoch [5/10], Step [12000/18063], Loss: 0.0000\n",
      "Epoch [5/10], Step [15000/18063], Loss: 0.0005\n",
      "Epoch [5/10], Step [18000/18063], Loss: 0.0000\n",
      "Epoch [6/10], Step [3000/18063], Loss: 0.0046\n",
      "Epoch [6/10], Step [6000/18063], Loss: 0.0274\n",
      "Epoch [6/10], Step [9000/18063], Loss: 4.4167\n",
      "Epoch [6/10], Step [12000/18063], Loss: 0.0389\n",
      "Epoch [6/10], Step [15000/18063], Loss: 0.0000\n",
      "Epoch [6/10], Step [18000/18063], Loss: 6.4368\n",
      "Epoch [7/10], Step [3000/18063], Loss: 0.0779\n",
      "Epoch [7/10], Step [6000/18063], Loss: 0.0022\n",
      "Epoch [7/10], Step [9000/18063], Loss: 0.0003\n",
      "Epoch [7/10], Step [12000/18063], Loss: 1.8219\n",
      "Epoch [7/10], Step [15000/18063], Loss: 0.0000\n",
      "Epoch [7/10], Step [18000/18063], Loss: 0.8892\n",
      "Epoch [8/10], Step [3000/18063], Loss: 0.0000\n",
      "Epoch [8/10], Step [6000/18063], Loss: 0.0001\n",
      "Epoch [8/10], Step [9000/18063], Loss: 0.0017\n",
      "Epoch [8/10], Step [12000/18063], Loss: 0.0000\n",
      "Epoch [8/10], Step [15000/18063], Loss: 0.0000\n",
      "Epoch [8/10], Step [18000/18063], Loss: 0.0000\n",
      "Epoch [9/10], Step [3000/18063], Loss: 0.0403\n",
      "Epoch [9/10], Step [6000/18063], Loss: 0.0006\n",
      "Epoch [9/10], Step [9000/18063], Loss: 0.1896\n",
      "Epoch [9/10], Step [12000/18063], Loss: 0.0000\n",
      "Epoch [9/10], Step [15000/18063], Loss: 1.4733\n",
      "Epoch [9/10], Step [18000/18063], Loss: 4.8903\n",
      "Epoch [10/10], Step [3000/18063], Loss: 0.0040\n",
      "Epoch [10/10], Step [6000/18063], Loss: 0.0000\n",
      "Epoch [10/10], Step [9000/18063], Loss: 0.0357\n",
      "Epoch [10/10], Step [12000/18063], Loss: 0.0022\n",
      "Epoch [10/10], Step [15000/18063], Loss: 0.0001\n",
      "Epoch [10/10], Step [18000/18063], Loss: 2.4780\n"
     ]
    }
   ],
   "source": [
    "# Step 5.3 \n",
    "# Training\n",
    "num_epochs = 10\n",
    "print_interval = 3000\n",
    "\n",
    "for epoch in range(num_epochs):\n",
    "    random.shuffle(train_dataset)\n",
    "    for i, (name, label) in enumerate(train_dataset):\n",
    "        hidden_state = model.init_hidden()\n",
    "        for char in name:\n",
    "            output, hidden_state = model(char, hidden_state)\n",
    "        loss = criterion(output, label)\n",
    "\n",
    "        optimizer.zero_grad()\n",
    "        loss.backward()\n",
    "        nn.utils.clip_grad_norm_(model.parameters(), 1)\n",
    "        optimizer.step()\n",
    "        \n",
    "        if (i + 1) % print_interval == 0:\n",
    "            print(\n",
    "                f\"Epoch [{epoch + 1}/{num_epochs}], \"\n",
    "                f\"Step [{i + 1}/{len(train_dataset)}], \"\n",
    "                f\"Loss: {loss.item():.4f}\"\n",
    "            )"
   ]
  },
  {
   "cell_type": "code",
   "execution_count": 12,
   "id": "48d5c7a1-3c12-4983-8350-6b3d4fa60e27",
   "metadata": {},
   "outputs": [
    {
     "name": "stdout",
     "output_type": "stream",
     "text": [
      "Accuracy: 81.3154%\n"
     ]
    }
   ],
   "source": [
    "num_correct = 0\n",
    "num_samples = len(test_dataset)\n",
    "\n",
    "model.eval()\n",
    "\n",
    "with torch.no_grad():\n",
    "    for name, label in test_dataset:\n",
    "        hidden_state = model.init_hidden()\n",
    "        for char in name:\n",
    "            output, hidden_state = model(char, hidden_state)\n",
    "        _, pred = torch.max(output, dim=1)\n",
    "        num_correct += bool(pred == label)\n",
    "\n",
    "print(f\"Accuracy: {num_correct / num_samples * 100:.4f}%\")"
   ]
  },
  {
   "cell_type": "code",
   "execution_count": 13,
   "id": "78ad0fbb-b429-4247-b351-a42bd4795720",
   "metadata": {},
   "outputs": [],
   "source": [
    "def myrnn_predict(name):\n",
    "    model.eval()\n",
    "    tensor_name = name2tensor(name)\n",
    "    with torch.no_grad():\n",
    "        hidden_state = model.init_hidden()\n",
    "        for char in tensor_name:\n",
    "            output, hidden_state = model(char, hidden_state)\n",
    "        _, pred = torch.max(output, dim=1)\n",
    "    model.train()    \n",
    "    return label2lang[pred.item()]"
   ]
  },
  {
   "cell_type": "code",
   "execution_count": 14,
   "id": "b2f67869-2196-4f00-8a85-7c8e9392786f",
   "metadata": {},
   "outputs": [
    {
     "data": {
      "text/plain": [
       "'Japanese'"
      ]
     },
     "execution_count": 14,
     "metadata": {},
     "output_type": "execute_result"
    }
   ],
   "source": [
    "myrnn_predict(\"Mike\")\n"
   ]
  },
  {
   "cell_type": "code",
   "execution_count": 15,
   "id": "a5ac3539-2db8-4447-b189-13733d664e5a",
   "metadata": {},
   "outputs": [
    {
     "data": {
      "text/plain": [
       "'Chinese'"
      ]
     },
     "execution_count": 15,
     "metadata": {},
     "output_type": "execute_result"
    }
   ],
   "source": [
    "myrnn_predict(\"Qin\")\n"
   ]
  },
  {
   "cell_type": "code",
   "execution_count": 16,
   "id": "a4321534-233a-46b5-a858-9b9aa1adf326",
   "metadata": {},
   "outputs": [
    {
     "data": {
      "text/plain": [
       "'Czech'"
      ]
     },
     "execution_count": 16,
     "metadata": {},
     "output_type": "execute_result"
    }
   ],
   "source": [
    "myrnn_predict(\"Slaveya\")\n"
   ]
  },
  {
   "cell_type": "code",
   "execution_count": null,
   "id": "769c978f-b526-49aa-b84c-c53014031a3c",
   "metadata": {},
   "outputs": [],
   "source": []
  }
 ],
 "metadata": {
  "kernelspec": {
   "display_name": "Python 3 (ipykernel)",
   "language": "python",
   "name": "python3"
  },
  "language_info": {
   "codemirror_mode": {
    "name": "ipython",
    "version": 3
   },
   "file_extension": ".py",
   "mimetype": "text/x-python",
   "name": "python",
   "nbconvert_exporter": "python",
   "pygments_lexer": "ipython3",
   "version": "3.12.7"
  }
 },
 "nbformat": 4,
 "nbformat_minor": 5
}
