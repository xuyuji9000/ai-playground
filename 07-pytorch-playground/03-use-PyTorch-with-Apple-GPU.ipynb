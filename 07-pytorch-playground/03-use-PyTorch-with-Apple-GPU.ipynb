{
 "cells": [
  {
   "cell_type": "markdown",
   "id": "1a5e4bab-625c-4181-98c0-425402e3379a",
   "metadata": {},
   "source": [
    "This notebook documents the learning of using PyTorch with Apple GPU.\n",
    "\n",
    "Referencing the following documentation [Accelerated PyTorch training on Mac\n",
    "](https://developer.apple.com/metal/pytorch/).\n",
    "\n"
   ]
  },
  {
   "cell_type": "markdown",
   "id": "759f29c0-854c-4535-9c56-6f26b46cc6c9",
   "metadata": {},
   "source": [
    "# Commands\n",
    "\n",
    "``` shell\n",
    "pip3 install                                                      \\\n",
    "--pre torch torchvision torchaudio                                \\\n",
    "--extra-index-url https://download.pytorch.org/whl/nightly/cpu\n",
    "\n",
    "```"
   ]
  },
  {
   "cell_type": "code",
   "execution_count": 1,
   "id": "b2f2258a-9140-48ac-b55a-a6e66c10ed5c",
   "metadata": {},
   "outputs": [
    {
     "name": "stdout",
     "output_type": "stream",
     "text": [
      "tensor([1.], device='mps:0')\n"
     ]
    }
   ],
   "source": [
    "import torch\n",
    "\n",
    "if torch.backends.mps.is_available():\n",
    "    mps_device = torch.device(\"mps\")\n",
    "    x = torch.ones(1, device=mps_device)\n",
    "    print (x)\n",
    "else:\n",
    "    print (\"MPS device not found.\")"
   ]
  }
 ],
 "metadata": {
  "kernelspec": {
   "display_name": "Python 3 (ipykernel)",
   "language": "python",
   "name": "python3"
  },
  "language_info": {
   "codemirror_mode": {
    "name": "ipython",
    "version": 3
   },
   "file_extension": ".py",
   "mimetype": "text/x-python",
   "name": "python",
   "nbconvert_exporter": "python",
   "pygments_lexer": "ipython3",
   "version": "3.12.3"
  }
 },
 "nbformat": 4,
 "nbformat_minor": 5
}
