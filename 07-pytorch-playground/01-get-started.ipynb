{
 "cells": [
  {
   "cell_type": "code",
   "execution_count": 1,
   "id": "f801147c-af23-45d5-8b61-86a39ed22502",
   "metadata": {},
   "outputs": [
    {
     "name": "stdout",
     "output_type": "stream",
     "text": [
      "tensor([[0.7914, 0.0212, 0.8685],\n",
      "        [0.1146, 0.1098, 0.9930],\n",
      "        [0.0082, 0.9192, 0.9226],\n",
      "        [0.5040, 0.3510, 0.9331],\n",
      "        [0.9108, 0.8750, 0.8952]])\n"
     ]
    }
   ],
   "source": [
    "import torch\n",
    "\n",
    "x = torch.rand(5, 3)\n",
    "print(x)"
   ]
  }
 ],
 "metadata": {
  "kernelspec": {
   "display_name": "Python 3 (ipykernel)",
   "language": "python",
   "name": "python3"
  },
  "language_info": {
   "codemirror_mode": {
    "name": "ipython",
    "version": 3
   },
   "file_extension": ".py",
   "mimetype": "text/x-python",
   "name": "python",
   "nbconvert_exporter": "python",
   "pygments_lexer": "ipython3",
   "version": "3.12.3"
  }
 },
 "nbformat": 4,
 "nbformat_minor": 5
}
