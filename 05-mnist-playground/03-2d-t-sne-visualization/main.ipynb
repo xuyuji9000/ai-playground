{
 "cells": [
  {
   "cell_type": "code",
   "execution_count": null,
   "metadata": {},
   "outputs": [],
   "source": [
    "# This cell makes\n",
    "# import mnist_reader\n",
    "# possible\n",
    "\n",
    "import os\n",
    "import sys\n",
    "\n",
    "CURRENT_DIRECTORY = os.path.abspath('')\n",
    "\n",
    "sys.path.append(CURRENT_DIRECTORY+'/fashion-mnist/utils')\n",
    "\n",
    "sys.path\n"
   ]
  },
  {
   "cell_type": "code",
   "execution_count": null,
   "metadata": {},
   "outputs": [],
   "source": [
    "# Read fashion-mnist into numpy ndarray format\n",
    "\n",
    "import mnist_reader\n",
    "\n",
    "train, train_label  = mnist_reader.load_mnist('fashion-mnist/data/fashion', kind='train')\n",
    "test , test_label   = mnist_reader.load_mnist('fashion-mnist/data/fashion', kind='t10k')\n",
    "\n",
    "type(train)"
   ]
  },
  {
   "cell_type": "code",
   "execution_count": null,
   "metadata": {},
   "outputs": [],
   "source": [
    "# Convert numpy ndarray format to pandas dataframe format\n",
    "import pandas as pd\n",
    "\n",
    "dataframe_train       = pd.DataFrame(train)\n",
    "dataframe_train_label = pd.DataFrame(train_label)\n",
    "dataframe_test        = pd.DataFrame(test)\n",
    "dataframe_test_label  = pd.DataFrame(test_label)\n",
    "\n",
    "dataframe_train.head()"
   ]
  }
 ],
 "metadata": {
  "kernelspec": {
   "display_name": "Python 3 (ipykernel)",
   "language": "python",
   "name": "python3"
  },
  "language_info": {
   "codemirror_mode": {
    "name": "ipython",
    "version": 3
   },
   "file_extension": ".py",
   "mimetype": "text/x-python",
   "name": "python",
   "nbconvert_exporter": "python",
   "pygments_lexer": "ipython3",
   "version": "3.12.3"
  }
 },
 "nbformat": 4,
 "nbformat_minor": 4
}
