{
 "cells": [
  {
   "cell_type": "markdown",
   "id": "943ee499-1d02-4698-91f5-ad4eaf23fdc5",
   "metadata": {},
   "source": [
    "This learning notebook reference the PyTorch documentation [Tensors](https://pytorch.org/tutorials/beginner/basics/tensor_tutorial.html) ."
   ]
  },
  {
   "cell_type": "code",
   "execution_count": null,
   "id": "1ff14aba-8067-484e-aca7-5a5abf4e7cce",
   "metadata": {},
   "outputs": [],
   "source": [
    "# This is a Python 2D list or list of lists\n",
    "data = [ \n",
    "    [1, 2], \n",
    "    [3, 4]\n",
    "]\n",
    "\n",
    "type(data)"
   ]
  },
  {
   "cell_type": "code",
   "execution_count": null,
   "id": "aa19378c-2098-4543-a11a-9e908bfea147",
   "metadata": {},
   "outputs": [],
   "source": [
    "# 01. Initialize tensor from Python list\n",
    "import torch\n",
    "\n",
    "\n",
    "x_data = torch.tensor(data)\n",
    "\n",
    "x_data.shape"
   ]
  },
  {
   "cell_type": "code",
   "execution_count": null,
   "id": "a94329f1-0576-4956-a4c4-0b02296f8bdf",
   "metadata": {},
   "outputs": [],
   "source": [
    "# 02. Initialize tensor from NumPy ndarray\n",
    "\n",
    "import numpy as np\n",
    "\n",
    "# Prepare NumPy ndarray\n",
    "np_array = np.array(data)\n",
    "print(\"np_array type:\", type(np_array))\n",
    "\n",
    "# Initialize PyTorch tensor from Numoy ndarray\n",
    "x_np = torch.from_numpy(np_array)\n",
    "\n",
    "x_np.shape"
   ]
  },
  {
   "cell_type": "code",
   "execution_count": null,
   "id": "0315d058-39a6-45f7-a1df-08346a07f465",
   "metadata": {},
   "outputs": [],
   "source": [
    "# 03. retain the property of another tensor\n",
    "\n",
    "x_ones = torch.ones_like(x_data)\n",
    "\n",
    "x_ones"
   ]
  },
  {
   "cell_type": "code",
   "execution_count": null,
   "id": "c95ea89c-b6db-4a64-9564-5a411a934964",
   "metadata": {},
   "outputs": [],
   "source": [
    "# 04. change the datatype of another tensor\n",
    "\n",
    "x_rand = torch.rand_like(x_data, dtype=torch.float)\n",
    "\n",
    "x_rand"
   ]
  },
  {
   "cell_type": "code",
   "execution_count": null,
   "id": "11e577c0-6d45-46d5-b8c1-e19ec2c2ec05",
   "metadata": {},
   "outputs": [],
   "source": [
    "# 05. Use Python tuple to hold tensor shape\n",
    "\n",
    "shape = (2, 3)\n",
    "\n",
    "rand_tensor  = torch.rand(shape)\n",
    "ones_tensor  = torch.ones(shape)\n",
    "zeros_tensor = torch.zeros(shape)"
   ]
  },
  {
   "cell_type": "code",
   "execution_count": 8,
   "id": "eb6171e8-9ea0-4c0c-8a90-7d65874bae6b",
   "metadata": {},
   "outputs": [
    {
     "name": "stdout",
     "output_type": "stream",
     "text": [
      "Shape of tensor            : torch.Size([3, 4])\n",
      "Datatype of tensor         : torch.float32\n",
      "Device tensor is stored on : cpu\n"
     ]
    }
   ],
   "source": [
    "# 06. Attributes of a PyTorch tensor\n",
    "\n",
    "tensor = torch.rand(3,4)\n",
    "\n",
    "tensor.shape\n",
    "print(f\"Shape of tensor            : {tensor.shape}\")\n",
    "print(f\"Datatype of tensor         : {tensor.dtype}\")\n",
    "print(f\"Device tensor is stored on : {tensor.device}\")"
   ]
  }
 ],
 "metadata": {
  "kernelspec": {
   "display_name": "Python 3 (ipykernel)",
   "language": "python",
   "name": "python3"
  },
  "language_info": {
   "codemirror_mode": {
    "name": "ipython",
    "version": 3
   },
   "file_extension": ".py",
   "mimetype": "text/x-python",
   "name": "python",
   "nbconvert_exporter": "python",
   "pygments_lexer": "ipython3",
   "version": "3.12.4"
  }
 },
 "nbformat": 4,
 "nbformat_minor": 5
}
