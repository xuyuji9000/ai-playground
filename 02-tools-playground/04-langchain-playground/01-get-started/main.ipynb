{
 "cells": [
  {
   "cell_type": "code",
   "execution_count": null,
   "id": "ceeb3104-d603-451e-8373-c45380253c50",
   "metadata": {},
   "outputs": [],
   "source": [
    "# Prepare environment variable\n",
    "\n",
    "from dotenv import load_dotenv\n",
    "import os\n",
    "\n",
    "load_dotenv()\n",
    "\n",
    "OPENAI_API_KEY = os.getenv(\"OPENAI_API_KEY\")\n"
   ]
  },
  {
   "cell_type": "code",
   "execution_count": null,
   "id": "1fe12409-e536-4bb0-8aa3-d504d197a616",
   "metadata": {},
   "outputs": [],
   "source": [
    "from langchain_openai import ChatOpenAI\n",
    "\n",
    "llm = ChatOpenAI(api_key=OPENAI_API_KEY)"
   ]
  },
  {
   "cell_type": "code",
   "execution_count": 3,
   "id": "a0c11935-4be3-4a68-8d44-0a78d95dae4e",
   "metadata": {},
   "outputs": [
    {
     "data": {
      "text/plain": [
       "AIMessage(content='Langsmith can help with testing by providing automated test generation, execution, and reporting capabilities. It can generate test cases based on the specifications and requirements of the software being tested, execute these test cases automatically, and provide detailed reports on the test results. This can help streamline the testing process, reduce manual effort, and ensure thorough test coverage. Langsmith can also provide tools for performance testing, regression testing, and other types of testing to help ensure the quality and reliability of the software being developed.', additional_kwargs={'refusal': None}, response_metadata={'token_usage': {'completion_tokens': 99, 'prompt_tokens': 15, 'total_tokens': 114, 'completion_tokens_details': {'reasoning_tokens': 0}}, 'model_name': 'gpt-3.5-turbo-0125', 'system_fingerprint': None, 'finish_reason': 'stop', 'logprobs': None}, id='run-369795ae-7c1b-4cb6-95ea-550077ce7de0-0', usage_metadata={'input_tokens': 15, 'output_tokens': 99, 'total_tokens': 114})"
      ]
     },
     "execution_count": 3,
     "metadata": {},
     "output_type": "execute_result"
    }
   ],
   "source": [
    "llm.invoke(\"how can langsmith help with testing?\")\n",
    "\n"
   ]
  }
 ],
 "metadata": {
  "kernelspec": {
   "display_name": "Python 3 (ipykernel)",
   "language": "python",
   "name": "python3"
  },
  "language_info": {
   "codemirror_mode": {
    "name": "ipython",
    "version": 3
   },
   "file_extension": ".py",
   "mimetype": "text/x-python",
   "name": "python",
   "nbconvert_exporter": "python",
   "pygments_lexer": "ipython3",
   "version": "3.12.4"
  }
 },
 "nbformat": 4,
 "nbformat_minor": 5
}
