{
 "cells": [
  {
   "cell_type": "markdown",
   "id": "c2ca8430-ad60-4a8a-bcdb-4d70ff70f0e0",
   "metadata": {},
   "source": [
    "This notebook document the examples used in the YouTube video [Binomial distributions | Probabilities of probabilities, part 1\n",
    "](https://www.youtube.com/watch?v=8idr1WZ1A7Q) .\n"
   ]
  },
  {
   "cell_type": "markdown",
   "id": "9ccb0631-48a4-4f7f-aa64-ba218c7b3934",
   "metadata": {},
   "source": [
    "|Review Counts| Rating|\n",
    "|-------------|-------|\n",
    "|10  / 10     |  100% |\n",
    "|48  / 50     |  96%  |\n",
    "|186 / 200    |  93%  |\n",
    "\n",
    "\n",
    "Laplace's Rule of Succession.\n",
    "\n",
    "Pretend there were 2 more reviews. 1 positive, 1 negative.\n",
    "\n",
    "|Review Counts| Rating|\n",
    "|-------------|-------|\n",
    "|11  / 12     | 91.7% |\n",
    "|49  / 52     | 94.2% |\n",
    "|187 / 202    | 92.6% |"
   ]
  }
 ],
 "metadata": {
  "kernelspec": {
   "display_name": "Python 3 (ipykernel)",
   "language": "python",
   "name": "python3"
  },
  "language_info": {
   "codemirror_mode": {
    "name": "ipython",
    "version": 3
   },
   "file_extension": ".py",
   "mimetype": "text/x-python",
   "name": "python",
   "nbconvert_exporter": "python",
   "pygments_lexer": "ipython3",
   "version": "3.12.4"
  }
 },
 "nbformat": 4,
 "nbformat_minor": 5
}
