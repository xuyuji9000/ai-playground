{
 "cells": [
  {
   "cell_type": "code",
   "execution_count": null,
   "id": "a04db34c-48dd-49e7-92df-9b47e27b739b",
   "metadata": {},
   "outputs": [],
   "source": [
    "import mnist"
   ]
  },
  {
   "cell_type": "code",
   "execution_count": null,
   "id": "2d71755c-c04f-4231-b818-009b8ecdc18f",
   "metadata": {},
   "outputs": [],
   "source": [
    "mnist.datasets_url=\"http://fashion-mnist.s3-website.eu-central-1.amazonaws.com/\"\n",
    "\n",
    "train       = mnist.train_images()\n",
    "train       = train.reshape((train.shape[0], train.shape[1] * train.shape[2]))\n",
    "train_label = mnist.train_labels()\n",
    "\n",
    "test        = mnist.test_images()\n",
    "test        = test.reshape((test.shape[0], test.shape[1] * test.shape[2]))\n",
    "test_label  = mnist.test_labels()\n",
    "\n"
   ]
  },
  {
   "cell_type": "code",
   "execution_count": null,
   "id": "973fe8bc-9c22-4d7d-bd5c-918784a23563",
   "metadata": {},
   "outputs": [],
   "source": [
    "# Convert numpy ndarray format to pandas dataframe format\n",
    "import pandas as pd\n",
    "\n",
    "dataframe_train       = pd.DataFrame(train)\n",
    "dataframe_train_label = pd.DataFrame(train_label)\n",
    "dataframe_test        = pd.DataFrame(test)\n",
    "dataframe_test_label  = pd.DataFrame(test_label)\n",
    "\n",
    "dataframe_train[:100].shape"
   ]
  },
  {
   "cell_type": "code",
   "execution_count": null,
   "id": "ce292f2b-5cd0-4c4d-b8e5-67ec307cc28f",
   "metadata": {},
   "outputs": [],
   "source": [
    "%%time\n",
    "\n",
    "import sklearn\n",
    "from sklearn.manifold import TSNE\n",
    "\n",
    "\n",
    "tsne = TSNE(\n",
    "    n_components=3\n",
    ")\n",
    "\n",
    "train_3D = tsne.fit_transform(dataframe_train[:100])\n",
    "train_3D.shape"
   ]
  },
  {
   "cell_type": "code",
   "execution_count": null,
   "id": "982dece3-f357-41d5-97ef-821ed45d7c84",
   "metadata": {},
   "outputs": [],
   "source": [
    "%matplotlib qt\n",
    "\n",
    "# matplotlib 3d plot\n",
    "import matplotlib.pyplot as plt\n",
    "\n",
    "\n",
    "ax = plt.axes(projection='3d')\n",
    "ax.scatter(3,5,7)\n",
    "plt.show()"
   ]
  }
 ],
 "metadata": {
  "kernelspec": {
   "display_name": "Python 3 (ipykernel)",
   "language": "python",
   "name": "python3"
  },
  "language_info": {
   "codemirror_mode": {
    "name": "ipython",
    "version": 3
   },
   "file_extension": ".py",
   "mimetype": "text/x-python",
   "name": "python",
   "nbconvert_exporter": "python",
   "pygments_lexer": "ipython3",
   "version": "3.12.3"
  }
 },
 "nbformat": 4,
 "nbformat_minor": 5
}
