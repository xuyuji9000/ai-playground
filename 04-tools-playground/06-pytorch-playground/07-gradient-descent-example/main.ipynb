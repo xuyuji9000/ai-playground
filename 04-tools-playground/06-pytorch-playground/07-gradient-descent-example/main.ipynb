{
 "cells": [
  {
   "cell_type": "code",
   "execution_count": 2,
   "id": "d717cbbf-e7bb-4a4f-b88e-97a62f12ca45",
   "metadata": {},
   "outputs": [],
   "source": [
    "# 1. Import dependencies\n",
    "import torch"
   ]
  },
  {
   "cell_type": "markdown",
   "id": "6cbe20ab-9647-4d2b-ab4d-de538c6421a6",
   "metadata": {},
   "source": [
    "\n",
    "![computing graph](./comp-graph.png)\n",
    "> Check the following [page](https://pytorch.org/tutorials/beginner/basics/autogradqs_tutorial.html#tensors-functions-and-computational-graph) for the computing graph ."
   ]
  },
  {
   "cell_type": "code",
   "execution_count": 14,
   "id": "b06a08fd-3860-4dcc-9470-dded34c16053",
   "metadata": {},
   "outputs": [
    {
     "data": {
      "text/plain": [
       "tensor(0.5296, grad_fn=<BinaryCrossEntropyWithLogitsBackward0>)"
      ]
     },
     "execution_count": 14,
     "metadata": {},
     "output_type": "execute_result"
    }
   ],
   "source": [
    "# 2. define one-layer neural network\n",
    "x = torch.ones(5) # input  tensor\n",
    "y = torch.zeros(3) # expected output\n",
    "\n",
    "w = torch.randn(5, 3, requires_grad=True)\n",
    "b = torch.randn(3, requires_grad=True)\n",
    "\n",
    "z = torch.matmul(x, w)+b\n",
    "\n",
    "loss = torch.nn.functional.binary_cross_entropy_with_logits(z, y)\n",
    "loss"
   ]
  },
  {
   "cell_type": "code",
   "execution_count": 4,
   "id": "6414f07f-f8f0-4bc1-9761-7ddb0c0e1d3f",
   "metadata": {},
   "outputs": [
    {
     "name": "stdout",
     "output_type": "stream",
     "text": [
      "None\n",
      "None\n",
      "tensor([[0.0126, 0.0922, 0.0358],\n",
      "        [0.0126, 0.0922, 0.0358],\n",
      "        [0.0126, 0.0922, 0.0358],\n",
      "        [0.0126, 0.0922, 0.0358],\n",
      "        [0.0126, 0.0922, 0.0358]])\n",
      "tensor([0.0126, 0.0922, 0.0358])\n"
     ]
    }
   ],
   "source": [
    "# 3. compute gradient\n",
    "\n",
    "print(w.grad)\n",
    "print(b.grad)\n",
    "loss.backward()\n",
    "print(w.grad)\n",
    "print(b.grad)"
   ]
  },
  {
   "cell_type": "code",
   "execution_count": 12,
   "id": "d550b13e-ea32-41a3-971c-8159bdb48e69",
   "metadata": {},
   "outputs": [
    {
     "name": "stdout",
     "output_type": "stream",
     "text": [
      "tensor1 . tensor 2 : torch.Size([2, 2]) . torch.Size([2, 3])\n",
      "tensor([[19, 22, 25],\n",
      "        [43, 50, 57]])\n"
     ]
    }
   ],
   "source": [
    "# APPENDIX\n",
    "# Pytorch Matrix Multiple examples\n",
    "\n",
    "\n",
    "\n",
    "# Define two matrices\n",
    "tensor1 = torch.tensor([\n",
    "    [1, 2], \n",
    "    [3, 4]\n",
    "])\n",
    "tensor2 = torch.tensor([\n",
    "    [5, 6, 7], \n",
    "    [7, 8, 9]\n",
    "])\n",
    "\n",
    "print(f'tensor1 . tensor 2 : {tensor1.shape} . { tensor2.shape }')\n",
    "\n",
    "# Matrix multiplication\n",
    "result = torch.matmul(tensor1, tensor2)\n",
    "print(result)"
   ]
  }
 ],
 "metadata": {
  "kernelspec": {
   "display_name": "Python 3 (ipykernel)",
   "language": "python",
   "name": "python3"
  },
  "language_info": {
   "codemirror_mode": {
    "name": "ipython",
    "version": 3
   },
   "file_extension": ".py",
   "mimetype": "text/x-python",
   "name": "python",
   "nbconvert_exporter": "python",
   "pygments_lexer": "ipython3",
   "version": "3.12.4"
  }
 },
 "nbformat": 4,
 "nbformat_minor": 5
}
