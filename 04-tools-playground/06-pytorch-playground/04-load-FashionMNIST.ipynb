{
 "cells": [
  {
   "cell_type": "code",
   "execution_count": 2,
   "id": "abfb83c8-b82f-48ad-9747-45fa08e39c21",
   "metadata": {},
   "outputs": [
    {
     "ename": "ModuleNotFoundError",
     "evalue": "No module named 'matplotlib'",
     "output_type": "error",
     "traceback": [
      "\u001b[0;31m---------------------------------------------------------------------------\u001b[0m",
      "\u001b[0;31mModuleNotFoundError\u001b[0m                       Traceback (most recent call last)",
      "Cell \u001b[0;32mIn[2], line 4\u001b[0m\n\u001b[1;32m      2\u001b[0m \u001b[38;5;28;01mimport\u001b[39;00m \u001b[38;5;21;01mmnist\u001b[39;00m\n\u001b[1;32m      3\u001b[0m \u001b[38;5;28;01mimport\u001b[39;00m \u001b[38;5;21;01mtorch\u001b[39;00m\n\u001b[0;32m----> 4\u001b[0m \u001b[38;5;28;01mimport\u001b[39;00m \u001b[38;5;21;01mmatplotlib\u001b[39;00m\u001b[38;5;21;01m.\u001b[39;00m\u001b[38;5;21;01mpyplot\u001b[39;00m \u001b[38;5;28;01mas\u001b[39;00m \u001b[38;5;21;01mplt\u001b[39;00m\n\u001b[1;32m      5\u001b[0m \u001b[38;5;28;01mimport\u001b[39;00m \u001b[38;5;21;01mrandom\u001b[39;00m\n",
      "\u001b[0;31mModuleNotFoundError\u001b[0m: No module named 'matplotlib'"
     ]
    }
   ],
   "source": [
    "# 1. Import dependent libraries\n",
    "import mnist\n",
    "import torch\n",
    "import matplotlib.pyplot as plt\n",
    "import random\n",
    "\n"
   ]
  },
  {
   "cell_type": "code",
   "execution_count": null,
   "id": "f0ff1987-1a9b-4d6a-a326-726a14d1ef95",
   "metadata": {},
   "outputs": [],
   "source": [
    "# 2. Load FashionMNIST dataset in numpy array \n",
    "mnist.datasets_url=\"http://fashion-mnist.s3-website.eu-central-1.amazonaws.com/\"\n",
    "\n",
    "train_images = mnist.train_images()\n",
    "train_labels = mnist.train_labels()\n",
    "\n",
    "test_images = mnist.test_images()\n",
    "test_labels = mnist.test_labels()\n",
    "\n",
    "print(train_images.shape)\n",
    "print(train_labels.shape)"
   ]
  },
  {
   "cell_type": "code",
   "execution_count": null,
   "id": "d64a4b3f-62b2-4406-9a72-d03ede16c81f",
   "metadata": {},
   "outputs": [],
   "source": [
    "# 3. See the first image in numpy array\n",
    "# train_images[0,:,:]"
   ]
  },
  {
   "cell_type": "code",
   "execution_count": null,
   "id": "34154201-724c-4a3b-a5cd-356ed44d6d8a",
   "metadata": {},
   "outputs": [],
   "source": [
    "# 4. Create tensor with numpy array\n",
    "\n",
    "train_images_tensor = torch.from_numpy(train_images)\n",
    "\n",
    "train_images_tensor.shape"
   ]
  },
  {
   "cell_type": "markdown",
   "id": "24ad82f9-3e4b-45fe-be8c-74ea7f7a9918",
   "metadata": {},
   "source": [
    "Refrence **labels map** from github repo [zalandoresearch/fashion-mnist](https://github.com/zalandoresearch/fashion-mnist?tab=readme-ov-file#labels)"
   ]
  },
  {
   "cell_type": "code",
   "execution_count": null,
   "id": "d2585f2a-d663-418c-a3fc-b1d14429daa9",
   "metadata": {},
   "outputs": [],
   "source": [
    "# 5. labels map\n",
    "\n",
    "labels_map = {\n",
    "    0: 'T-shirt/top',\n",
    "    1: 'Trousers',\n",
    "    2: 'Pullover',\n",
    "    3: 'Dress',\n",
    "    4: 'Coat',\n",
    "    5: 'Sandal',\n",
    "    6: 'Shirt',\n",
    "    7: 'Sneaker',\n",
    "    8: 'Bag',\n",
    "    9: 'Ankle boot'\n",
    "}"
   ]
  },
  {
   "cell_type": "code",
   "execution_count": null,
   "id": "c70e8292-5925-42ba-a000-4c16cb9003f2",
   "metadata": {},
   "outputs": [],
   "source": [
    "# 6. Plot a random numpy array as image\n",
    "figure = plt.figure(figsize=(8,8))\n",
    "\n",
    "sample_idx = random.randint(0, len(train_images_tensor))\n",
    "\n",
    "img   = train_images[sample_idx]\n",
    "label = train_labels[sample_idx]\n",
    "\n",
    "plt.title(labels_map[label])\n",
    "plt.imshow(img, cmap='gray')\n",
    "\n",
    "plt.show()"
   ]
  }
 ],
 "metadata": {
  "kernelspec": {
   "display_name": "Python 3 (ipykernel)",
   "language": "python",
   "name": "python3"
  },
  "language_info": {
   "codemirror_mode": {
    "name": "ipython",
    "version": 3
   },
   "file_extension": ".py",
   "mimetype": "text/x-python",
   "name": "python",
   "nbconvert_exporter": "python",
   "pygments_lexer": "ipython3",
   "version": "3.12.7"
  }
 },
 "nbformat": 4,
 "nbformat_minor": 5
}
