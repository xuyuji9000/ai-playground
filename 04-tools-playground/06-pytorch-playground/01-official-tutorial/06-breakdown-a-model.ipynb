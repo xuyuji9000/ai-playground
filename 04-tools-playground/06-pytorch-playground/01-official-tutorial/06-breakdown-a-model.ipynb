{
 "cells": [
  {
   "cell_type": "code",
   "execution_count": 34,
   "id": "acddef79-b0cf-46c2-95dd-ebc9c8ee1c16",
   "metadata": {},
   "outputs": [],
   "source": [
    "import torch\n",
    "from torch import nn"
   ]
  },
  {
   "cell_type": "code",
   "execution_count": 35,
   "id": "54a7ff92-356b-4030-9998-2a55c9818100",
   "metadata": {},
   "outputs": [
    {
     "data": {
      "text/plain": [
       "torch.Size([3, 28, 28])"
      ]
     },
     "execution_count": 35,
     "metadata": {},
     "output_type": "execute_result"
    }
   ],
   "source": [
    "# 1. Prepare a sample of 3 images of size 28*28\n",
    "\n",
    "input_image = torch.rand(3, 28, 28)\n",
    "\n",
    "input_image.shape"
   ]
  },
  {
   "cell_type": "code",
   "execution_count": 36,
   "id": "aa781ea3-8bc9-4a55-b61f-fa8fb93133d4",
   "metadata": {},
   "outputs": [
    {
     "data": {
      "text/plain": [
       "torch.Size([3, 784])"
      ]
     },
     "execution_count": 36,
     "metadata": {},
     "output_type": "execute_result"
    }
   ],
   "source": [
    "# 2. nn.Flatten\n",
    "#    Flatten 2 dimensional image into a contiguous array\n",
    "\n",
    "flatten = nn.Flatten()\n",
    "\n",
    "flat_image = flatten(input_image)\n",
    "\n",
    "flat_image.shape"
   ]
  },
  {
   "cell_type": "code",
   "execution_count": 41,
   "id": "07425147-09d8-4672-8f4c-f4b021b94447",
   "metadata": {},
   "outputs": [
    {
     "name": "stdout",
     "output_type": "stream",
     "text": [
      "layer1: Linear(in_features=784, out_features=20, bias=True)\n",
      "hidden1 shape: torch.Size([3, 20])\n"
     ]
    }
   ],
   "source": [
    "# 3. nn.Linear\n",
    "#    applies linear transformation\n",
    "\n",
    "layer1 = nn.Linear(in_features=28*28, out_features=20)\n",
    "\n",
    "# layer with 28*28 input values, 20 output values\n",
    "print(f'layer1: {layer1}')\n",
    "\n",
    "hidden1 = layer1(flat_image)\n",
    "\n",
    "# 3 samples, with 20 values\n",
    "print(f'hidden1 shape: {hidden1.shape}')\n"
   ]
  },
  {
   "cell_type": "code",
   "execution_count": 46,
   "id": "099b8aeb-6b74-4eba-a9fa-ec4f8cdc755e",
   "metadata": {},
   "outputs": [
    {
     "name": "stdout",
     "output_type": "stream",
     "text": [
      "tensor([[0.0000, 0.0000, 0.6893, 0.0000, 0.0000, 0.0000, 0.2263, 0.0052, 0.3121,\n",
      "         0.0261, 0.1141, 0.0000, 0.3810, 0.2731, 0.0672, 0.0000, 0.0000, 0.0000,\n",
      "         0.0000, 0.4080],\n",
      "        [0.1929, 0.0000, 0.5919, 0.0000, 0.0940, 0.0217, 0.3965, 0.4996, 0.1618,\n",
      "         0.0000, 0.4462, 0.0000, 0.3031, 0.0220, 0.3690, 0.0000, 0.2694, 0.0000,\n",
      "         0.0000, 0.7030],\n",
      "        [0.0754, 0.0182, 0.5693, 0.0000, 0.1031, 0.0792, 0.3258, 0.1430, 0.1740,\n",
      "         0.0034, 0.0756, 0.0000, 0.6237, 0.0229, 0.0983, 0.0000, 0.0000, 0.0584,\n",
      "         0.0000, 0.4488]], grad_fn=<ReluBackward0>)\n",
      "tensor([[0.0000, 0.0000, 0.6893, 0.0000, 0.0000, 0.0000, 0.2263, 0.0052, 0.3121,\n",
      "         0.0261, 0.1141, 0.0000, 0.3810, 0.2731, 0.0672, 0.0000, 0.0000, 0.0000,\n",
      "         0.0000, 0.4080],\n",
      "        [0.1929, 0.0000, 0.5919, 0.0000, 0.0940, 0.0217, 0.3965, 0.4996, 0.1618,\n",
      "         0.0000, 0.4462, 0.0000, 0.3031, 0.0220, 0.3690, 0.0000, 0.2694, 0.0000,\n",
      "         0.0000, 0.7030],\n",
      "        [0.0754, 0.0182, 0.5693, 0.0000, 0.1031, 0.0792, 0.3258, 0.1430, 0.1740,\n",
      "         0.0034, 0.0756, 0.0000, 0.6237, 0.0229, 0.0983, 0.0000, 0.0000, 0.0584,\n",
      "         0.0000, 0.4488]], grad_fn=<ReluBackward0>)\n"
     ]
    }
   ],
   "source": [
    "# 4. nn.ReLU\n",
    "#    Introduce non-linearity\n",
    "#    create complex mapping between model's input and output\n",
    "print(hidden1)\n",
    "\n",
    "hidden1 = nn.ReLU()(hidden1)\n",
    "\n",
    "print(hidden1)"
   ]
  },
  {
   "cell_type": "code",
   "execution_count": 57,
   "id": "aacb11de-b78e-4716-ac7d-f108366378a0",
   "metadata": {},
   "outputs": [
    {
     "data": {
      "text/plain": [
       "torch.Size([3, 10])"
      ]
     },
     "execution_count": 57,
     "metadata": {},
     "output_type": "execute_result"
    }
   ],
   "source": [
    "#5. nn.Sequential\n",
    "seq_modules = nn.Sequential(\n",
    "    flatten,\n",
    "    layer1,\n",
    "    nn.ReLU(),\n",
    "    nn.Linear(20, 10)\n",
    ")\n",
    "\n",
    "input_image = torch.rand(3, 28, 28)\n",
    "logits = seq_modules(input_image)\n",
    "\n",
    "logits.shape"
   ]
  },
  {
   "cell_type": "code",
   "execution_count": 73,
   "id": "e6d89ef5-c0aa-4c3b-b100-31a42a116edd",
   "metadata": {},
   "outputs": [
    {
     "name": "stdout",
     "output_type": "stream",
     "text": [
      "logits.shape: torch.Size([3, 10]) , [dim=0, dim=1]\n",
      "dim=1 sum check: 1.0\n"
     ]
    }
   ],
   "source": [
    "#6. nn.Softmax\n",
    "\n",
    "print(f'logits.shape: {logits.shape} , [dim=0, dim=1]')\n",
    "\n",
    "softmax = nn.Softmax(dim=1)\n",
    "\n",
    "\n",
    "pred_probab = softmax(logits)\n",
    "\n",
    "print(f'dim=1 sum check: {pred_probab[0,:].sum()}')"
   ]
  }
 ],
 "metadata": {
  "kernelspec": {
   "display_name": "Python 3 (ipykernel)",
   "language": "python",
   "name": "python3"
  },
  "language_info": {
   "codemirror_mode": {
    "name": "ipython",
    "version": 3
   },
   "file_extension": ".py",
   "mimetype": "text/x-python",
   "name": "python",
   "nbconvert_exporter": "python",
   "pygments_lexer": "ipython3",
   "version": "3.12.4"
  }
 },
 "nbformat": 4,
 "nbformat_minor": 5
}
