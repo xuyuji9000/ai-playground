{
 "cells": [
  {
   "cell_type": "code",
   "execution_count": 1,
   "id": "3c5749cb-710c-446b-b5f7-bbcebceb8b40",
   "metadata": {},
   "outputs": [],
   "source": [
    "import torch\n",
    "from torch import nn"
   ]
  },
  {
   "cell_type": "code",
   "execution_count": 2,
   "id": "34be153b-8c8a-4175-bf3c-8f786a60957e",
   "metadata": {},
   "outputs": [],
   "source": [
    "# 1. Choose the hardware accelerator to use\n",
    "\n",
    "# torch.backends.mps.is_available()\n",
    "device = 'mps'"
   ]
  },
  {
   "cell_type": "code",
   "execution_count": 3,
   "id": "6c0cb39a-db7a-4072-8104-53629f79867d",
   "metadata": {},
   "outputs": [],
   "source": [
    "# 2. Define the model\n",
    "\n",
    "class NeuralNetwork(nn.Module):\n",
    "    def __init__(self):\n",
    "        super().__init__()\n",
    "        \n",
    "        self.flatten = nn.Flatten()\n",
    "\n",
    "        self.linear_relu_stack = nn.Sequential(\n",
    "            nn.Linear(28*28, 512),\n",
    "            nn.ReLU(),\n",
    "            nn.Linear(512, 512),\n",
    "            nn.ReLU(),\n",
    "            nn.Linear(512, 10)\n",
    "            \n",
    "        )\n",
    "\n",
    "    def forward(self, x):\n",
    "        x = self.flatten(x)\n",
    "        \n",
    "        logits = self.linear_relu_stack(x)\n",
    "        \n",
    "        return logits\n"
   ]
  },
  {
   "cell_type": "code",
   "execution_count": 4,
   "id": "cce104a5-8fcd-462f-9da7-98ee6df4bfd0",
   "metadata": {},
   "outputs": [
    {
     "name": "stdout",
     "output_type": "stream",
     "text": [
      "NeuralNetwork(\n",
      "  (flatten): Flatten(start_dim=1, end_dim=-1)\n",
      "  (linear_relu_stack): Sequential(\n",
      "    (0): Linear(in_features=784, out_features=512, bias=True)\n",
      "    (1): ReLU()\n",
      "    (2): Linear(in_features=512, out_features=512, bias=True)\n",
      "    (3): ReLU()\n",
      "    (4): Linear(in_features=512, out_features=10, bias=True)\n",
      "  )\n",
      ")\n",
      "linear_relu_stack.0.weight\n",
      "torch.Size([512, 784])\n",
      "tensor([[ 0.0143, -0.0307,  0.0164,  ...,  0.0033,  0.0321,  0.0175],\n",
      "        [ 0.0068, -0.0279, -0.0288,  ...,  0.0034, -0.0045, -0.0094]],\n",
      "       device='mps:0', grad_fn=<SliceBackward0>)\n",
      "linear_relu_stack.0.bias\n",
      "torch.Size([512])\n",
      "tensor([-0.0320,  0.0122], device='mps:0', grad_fn=<SliceBackward0>)\n",
      "linear_relu_stack.2.weight\n",
      "torch.Size([512, 512])\n",
      "tensor([[ 0.0204, -0.0121,  0.0319,  ...,  0.0437,  0.0280,  0.0207],\n",
      "        [ 0.0084, -0.0226,  0.0125,  ..., -0.0068, -0.0374, -0.0220]],\n",
      "       device='mps:0', grad_fn=<SliceBackward0>)\n",
      "linear_relu_stack.2.bias\n",
      "torch.Size([512])\n",
      "tensor([ 0.0342, -0.0134], device='mps:0', grad_fn=<SliceBackward0>)\n",
      "linear_relu_stack.4.weight\n",
      "torch.Size([10, 512])\n",
      "tensor([[-0.0142,  0.0213, -0.0175,  ..., -0.0003,  0.0119, -0.0079],\n",
      "        [-0.0438, -0.0152,  0.0284,  ..., -0.0116,  0.0139,  0.0345]],\n",
      "       device='mps:0', grad_fn=<SliceBackward0>)\n",
      "linear_relu_stack.4.bias\n",
      "torch.Size([10])\n",
      "tensor([-0.0351, -0.0029], device='mps:0', grad_fn=<SliceBackward0>)\n"
     ]
    }
   ],
   "source": [
    "# 3. Initialize the model\n",
    "\n",
    "model = NeuralNetwork().to(device)\n",
    "\n",
    "print(model)\n",
    "\n",
    "for name, param in model.named_parameters():\n",
    "    print(name)\n",
    "    print(param.shape)\n",
    "    print(param[:2])"
   ]
  },
  {
   "cell_type": "code",
   "execution_count": 5,
   "id": "8e5ec13d-b38a-49e7-a4e6-ca3968b815b9",
   "metadata": {},
   "outputs": [
    {
     "name": "stdout",
     "output_type": "stream",
     "text": [
      "pred_probab: tensor([[0.0892, 0.1094, 0.1008, 0.0982, 0.0931, 0.1009, 0.1082, 0.0976, 0.1066,\n",
      "         0.0960]], device='mps:0', grad_fn=<SoftmaxBackward0>)\n",
      "pred_probab shape: torch.Size([1, 10])\n",
      "Predicted class: tensor([1], device='mps:0')\n"
     ]
    }
   ],
   "source": [
    "# 4. use the model for 1 case of prediction\n",
    "\n",
    "X = torch.rand(1,28,28, device=device)\n",
    "\n",
    "logits = model(X)\n",
    "\n",
    "\n",
    "pred_probab = nn.Softmax(dim=1)(logits)\n",
    "print(f'pred_probab: { pred_probab }')\n",
    "print(f'pred_probab shape: { pred_probab.shape }')\n",
    "y_pred = pred_probab.argmax(1)\n",
    "\n",
    "\n",
    "print(f\"Predicted class: {y_pred}\")"
   ]
  },
  {
   "cell_type": "code",
   "execution_count": 6,
   "id": "08026c88-0857-4091-9ee7-9cf3d976f593",
   "metadata": {},
   "outputs": [
    {
     "name": "stdout",
     "output_type": "stream",
     "text": [
      "tensor([[ 1.6062, -1.0260, -1.7278, -0.0105],\n",
      "        [-0.6658, -0.3243, -2.1588,  2.4055],\n",
      "        [ 0.8687, -0.4782, -0.1693, -2.5708],\n",
      "        [ 0.1019, -0.6981,  2.0004,  0.7112]])\n",
      "along dimension 0 (columns), max_indices_dim0: tensor([0, 1, 3, 1])\n",
      "along dimension 1 (rows), max_indices_dim1: tensor([0, 3, 0, 2])\n",
      "max_indices_keepdim: tensor([[0],\n",
      "        [3],\n",
      "        [0],\n",
      "        [2]])\n"
     ]
    }
   ],
   "source": [
    "# 5. check torch.argmax function's dim parameter impact\n",
    "# on the result of the function\n",
    "\n",
    "import torch\n",
    "\n",
    "# Create a random 2D tensor\n",
    "a = torch.randn(4, 4)\n",
    "\n",
    "print(a)\n",
    "\n",
    "# Get the indices of the maximum values along dimension 0 (columns)\n",
    "max_indices_dim0 = torch.argmax(a, dim=0)\n",
    "\n",
    "# Get the indices of the maximum values along dimension 1 (rows)\n",
    "max_indices_dim1 = torch.argmax(a, dim=1)\n",
    "\n",
    "# Using keepdim\n",
    "max_indices_keepdim = torch.argmax(a, dim=1, keepdim=True)\n",
    "\n",
    "print(f'along dimension 0 (columns), max_indices_dim0: { max_indices_dim0 }')\n",
    "print(f'along dimension 1 (rows), max_indices_dim1: { max_indices_dim1 }')\n",
    "print(f'max_indices_keepdim: { max_indices_keepdim }')"
   ]
  }
 ],
 "metadata": {
  "kernelspec": {
   "display_name": "Python 3 (ipykernel)",
   "language": "python",
   "name": "python3"
  },
  "language_info": {
   "codemirror_mode": {
    "name": "ipython",
    "version": 3
   },
   "file_extension": ".py",
   "mimetype": "text/x-python",
   "name": "python",
   "nbconvert_exporter": "python",
   "pygments_lexer": "ipython3",
   "version": "3.12.4"
  }
 },
 "nbformat": 4,
 "nbformat_minor": 5
}
