{
 "cells": [
  {
   "cell_type": "code",
   "execution_count": 1,
   "id": "3c5749cb-710c-446b-b5f7-bbcebceb8b40",
   "metadata": {},
   "outputs": [],
   "source": [
    "import torch\n",
    "from torch import nn"
   ]
  },
  {
   "cell_type": "code",
   "execution_count": 2,
   "id": "34be153b-8c8a-4175-bf3c-8f786a60957e",
   "metadata": {},
   "outputs": [],
   "source": [
    "# 1. Choose the hardware accelerator to use\n",
    "\n",
    "# torch.backends.mps.is_available()\n",
    "device = 'mps'"
   ]
  },
  {
   "cell_type": "code",
   "execution_count": 3,
   "id": "6c0cb39a-db7a-4072-8104-53629f79867d",
   "metadata": {},
   "outputs": [],
   "source": [
    "# 2. Define the model\n",
    "\n",
    "class NeuralNetwork(nn.Module):\n",
    "    def __init__(self):\n",
    "        super().__init__()\n",
    "        \n",
    "        self.flatten = nn.Flatten()\n",
    "\n",
    "        self.linear_relu_stack = nn.Sequential(\n",
    "            nn.Linear(28*28, 512),\n",
    "            nn.ReLU(),\n",
    "            nn.Linear(512, 512),\n",
    "            nn.ReLU(),\n",
    "            nn.Linear(512, 10)\n",
    "            \n",
    "        )\n",
    "\n",
    "    def forward(self, x):\n",
    "        x = self.flatten(x)\n",
    "        \n",
    "        logits = self.linear_relu_stack(x)\n",
    "        \n",
    "        return logits\n"
   ]
  },
  {
   "cell_type": "code",
   "execution_count": 4,
   "id": "cce104a5-8fcd-462f-9da7-98ee6df4bfd0",
   "metadata": {},
   "outputs": [
    {
     "name": "stdout",
     "output_type": "stream",
     "text": [
      "NeuralNetwork(\n",
      "  (flatten): Flatten(start_dim=1, end_dim=-1)\n",
      "  (linear_relu_stack): Sequential(\n",
      "    (0): Linear(in_features=784, out_features=512, bias=True)\n",
      "    (1): ReLU()\n",
      "    (2): Linear(in_features=512, out_features=512, bias=True)\n",
      "    (3): ReLU()\n",
      "    (4): Linear(in_features=512, out_features=10, bias=True)\n",
      "  )\n",
      ")\n"
     ]
    }
   ],
   "source": [
    "# 3. Initialize the model\n",
    "\n",
    "model = NeuralNetwork().to(device)\n",
    "\n",
    "print(model)"
   ]
  },
  {
   "cell_type": "code",
   "execution_count": 102,
   "id": "8e5ec13d-b38a-49e7-a4e6-ca3968b815b9",
   "metadata": {},
   "outputs": [
    {
     "name": "stdout",
     "output_type": "stream",
     "text": [
      "pred_probab: tensor([[0.1024, 0.1052, 0.1065, 0.1020, 0.1030, 0.0915, 0.0923, 0.0960, 0.1024,\n",
      "         0.0986]], device='mps:0', grad_fn=<SoftmaxBackward0>)\n",
      "pred_probab shape: torch.Size([1, 10])\n",
      "Predicted class: tensor([2], device='mps:0')\n"
     ]
    }
   ],
   "source": [
    "# 4. use the model for 1 case of prediction\n",
    "\n",
    "X = torch.rand(1,28,28, device=device)\n",
    "\n",
    "logits = model(X)\n",
    "\n",
    "\n",
    "pred_probab = nn.Softmax(dim=1)(logits)\n",
    "print(f'pred_probab: { pred_probab }')\n",
    "print(f'pred_probab shape: { pred_probab.shape }')\n",
    "y_pred = pred_probab.argmax(1)\n",
    "\n",
    "\n",
    "print(f\"Predicted class: {y_pred}\")"
   ]
  },
  {
   "cell_type": "code",
   "execution_count": 109,
   "id": "08026c88-0857-4091-9ee7-9cf3d976f593",
   "metadata": {},
   "outputs": [
    {
     "name": "stdout",
     "output_type": "stream",
     "text": [
      "tensor([[-0.7236, -1.9093, -0.0424,  0.0750],\n",
      "        [-0.0163, -0.5148,  0.9191, -1.3661],\n",
      "        [-0.0488,  0.2846, -0.4760, -0.2706],\n",
      "        [-1.0681, -0.7621,  0.7169, -1.2061]])\n",
      "along dimension 0 (columns), max_indices_dim0: tensor([1, 2, 1, 0])\n",
      "along dimension 1 (rows), max_indices_dim1: tensor([3, 2, 1, 2])\n",
      "max_indices_keepdim: tensor([[3],\n",
      "        [2],\n",
      "        [1],\n",
      "        [2]])\n"
     ]
    }
   ],
   "source": [
    "# 5. check torch.argmax function's dim parameter impact\n",
    "# on the result of the function\n",
    "\n",
    "import torch\n",
    "\n",
    "# Create a random 2D tensor\n",
    "a = torch.randn(4, 4)\n",
    "\n",
    "print(a)\n",
    "\n",
    "# Get the indices of the maximum values along dimension 0 (columns)\n",
    "max_indices_dim0 = torch.argmax(a, dim=0)\n",
    "\n",
    "# Get the indices of the maximum values along dimension 1 (rows)\n",
    "max_indices_dim1 = torch.argmax(a, dim=1)\n",
    "\n",
    "# Using keepdim\n",
    "max_indices_keepdim = torch.argmax(a, dim=1, keepdim=True)\n",
    "\n",
    "print(f'along dimension 0 (columns), max_indices_dim0: { max_indices_dim0 }')\n",
    "print(f'along dimension 1 (rows), max_indices_dim1: { max_indices_dim1 }')\n",
    "print(f'max_indices_keepdim: { max_indices_keepdim }')"
   ]
  }
 ],
 "metadata": {
  "kernelspec": {
   "display_name": "Python 3 (ipykernel)",
   "language": "python",
   "name": "python3"
  },
  "language_info": {
   "codemirror_mode": {
    "name": "ipython",
    "version": 3
   },
   "file_extension": ".py",
   "mimetype": "text/x-python",
   "name": "python",
   "nbconvert_exporter": "python",
   "pygments_lexer": "ipython3",
   "version": "3.12.4"
  }
 },
 "nbformat": 4,
 "nbformat_minor": 5
}
