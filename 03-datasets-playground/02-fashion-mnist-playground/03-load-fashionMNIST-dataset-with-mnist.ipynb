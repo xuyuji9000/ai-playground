{
 "cells": [
  {
   "cell_type": "code",
   "execution_count": 17,
   "id": "a04db34c-48dd-49e7-92df-9b47e27b739b",
   "metadata": {},
   "outputs": [],
   "source": [
    "import mnist\n",
    "\n",
    "import torch\n",
    "from torch.utils.data import TensorDataset, DataLoader"
   ]
  },
  {
   "cell_type": "code",
   "execution_count": 2,
   "id": "2d71755c-c04f-4231-b818-009b8ecdc18f",
   "metadata": {},
   "outputs": [],
   "source": [
    "# 1. Load FashionMNIST dataset with mnist library\n",
    "#    into numpy array format\n",
    "\n",
    "mnist.datasets_url=\"http://fashion-mnist.s3-website.eu-central-1.amazonaws.com/\"\n",
    "\n",
    "train_images = mnist.train_images()\n",
    "train_labels = mnist.train_labels()\n",
    "\n",
    "test_images = mnist.test_images()\n",
    "test_labels = mnist.test_labels()\n",
    "\n"
   ]
  },
  {
   "cell_type": "code",
   "execution_count": 3,
   "id": "973fe8bc-9c22-4d7d-bd5c-918784a23563",
   "metadata": {},
   "outputs": [
    {
     "name": "stdout",
     "output_type": "stream",
     "text": [
      "(60000, 28, 28)\n",
      "<class 'numpy.ndarray'>\n"
     ]
    }
   ],
   "source": [
    "print(train_images.shape)\n",
    "print(type(train_images))\n"
   ]
  },
  {
   "cell_type": "code",
   "execution_count": 19,
   "id": "38061152-3d16-4d5b-b87b-699783891f33",
   "metadata": {},
   "outputs": [],
   "source": [
    "# 2. from numpy array into Dataloader format\n",
    "\n",
    "train_images_tensor = torch.Tensor(train_images)\n",
    "train_labels_tensor = torch.Tensor(train_labels)\n",
    "\n",
    "\n",
    "\n",
    "train_dataset = TensorDataset(train_images_tensor, train_labels_tensor)\n",
    "train_dataloader = DataLoader(train_dataset)"
   ]
  },
  {
   "cell_type": "code",
   "execution_count": 23,
   "id": "abe25675-d406-4e54-84f2-e7272183cc64",
   "metadata": {},
   "outputs": [
    {
     "name": "stdout",
     "output_type": "stream",
     "text": [
      "0\n",
      "100\n",
      "200\n",
      "300\n",
      "400\n",
      "500\n",
      "600\n",
      "700\n",
      "800\n",
      "900\n"
     ]
    }
   ],
   "source": [
    "# 3. Define batch_size for Dataloader\n",
    "\n",
    "train_dataloader = DataLoader(train_dataset, batch_size=64)\n",
    "\n",
    "for batch, (X, y) in enumerate(train_dataloader):\n",
    "    if batch % 100 == 0:\n",
    "        print(batch)"
   ]
  }
 ],
 "metadata": {
  "kernelspec": {
   "display_name": "Python 3 (ipykernel)",
   "language": "python",
   "name": "python3"
  },
  "language_info": {
   "codemirror_mode": {
    "name": "ipython",
    "version": 3
   },
   "file_extension": ".py",
   "mimetype": "text/x-python",
   "name": "python",
   "nbconvert_exporter": "python",
   "pygments_lexer": "ipython3",
   "version": "3.12.4"
  }
 },
 "nbformat": 4,
 "nbformat_minor": 5
}
