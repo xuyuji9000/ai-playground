{
 "cells": [
  {
   "cell_type": "markdown",
   "id": "15ea1cc0-23f4-49c7-b10b-2c3416fb03a5",
   "metadata": {},
   "source": [
    "YouTube video: [The spelled-out intro to language modeling: building makemore](https://www.youtube.com/watch?v=PaCmpygFfXo)\n",
    "\n",
    "GitHub repository: [karpathy/makemore](https://github.com/karpathy/makemore).\n",
    "> The data file **names.txt** can be found in it."
   ]
  },
  {
   "cell_type": "code",
   "execution_count": 1,
   "id": "384a1f87-28a7-482b-8a8b-42cc8bb4c2a6",
   "metadata": {},
   "outputs": [
    {
     "data": {
      "text/plain": [
       "32033"
      ]
     },
     "execution_count": 1,
     "metadata": {},
     "output_type": "execute_result"
    }
   ],
   "source": [
    "# Load data \n",
    "\n",
    "words = open('./data/names.txt', 'r').read().splitlines()\n",
    "\n",
    "len(words)"
   ]
  },
  {
   "cell_type": "code",
   "execution_count": 2,
   "id": "7cf668bf-565a-4a19-955d-22a5a2295b43",
   "metadata": {},
   "outputs": [
    {
     "data": {
      "text/plain": [
       "2"
      ]
     },
     "execution_count": 2,
     "metadata": {},
     "output_type": "execute_result"
    }
   ],
   "source": [
    "# Here it uses Python generator feature\n",
    "# And applies the len() function to each element of the generator\n",
    "\n",
    "min(len(w) for w in words)"
   ]
  },
  {
   "cell_type": "code",
   "execution_count": 3,
   "id": "dd9ed466-9bb6-483d-8861-3f5e1a530aec",
   "metadata": {},
   "outputs": [
    {
     "data": {
      "text/plain": [
       "15"
      ]
     },
     "execution_count": 3,
     "metadata": {},
     "output_type": "execute_result"
    }
   ],
   "source": [
    "max(len(w) for w in words)"
   ]
  },
  {
   "cell_type": "markdown",
   "id": "e76137b6-e149-4a62-9f62-754cf40b23e3",
   "metadata": {},
   "source": [
    "\n",
    "\n",
    "# Feature\n",
    "\n",
    "    Count the [2-consecutive characters] occurance in the word list\n",
    "\n",
    "# Algorithm Explanation\n",
    "\n",
    "```\n",
    "    Loop through [word list]\n",
    "       Convert [word] from string to [word character list]\n",
    "       Add special start character '<S>' to the beginning of [word character list]\n",
    "       Add special end   character '<E>' to the end       of [word character list]\n",
    "\n",
    "       Iterate through a [word character list] with [2-consecutive characters].\n",
    "       Use a tuple to describe the [2-consecutive characters].\n",
    "       This tuple is used as key to count the occurence frequency of the [2-consecutive characters]\n",
    "       A dictionary collects the key:value pairs as follow\n",
    "           { \n",
    "               [2-consecutive characters]: occurence frequency,\n",
    "           }\n",
    "```\n",
    "\n",
    "\n",
    "# Syntax Explanation\n",
    "\n",
    "    1. list(string) \n",
    "\n",
    " \n",
    "       list function apply to a string, breaks the string into a list with constituting characters\n",
    "\n",
    "    3. zip() function \n",
    "\n",
    " \n",
    "       stops iterating when the shortest iterable is exhausted.\n",
    "\n",
    "# YouTube video time duration\n",
    "\n",
    "    06:25 - 12:50"
   ]
  },
  {
   "cell_type": "code",
   "execution_count": null,
   "id": "0aad8e31-e415-4195-8b81-bc2fbfdd82a1",
   "metadata": {},
   "outputs": [],
   "source": [
    "\n",
    "\n",
    "b = {}\n",
    "\n",
    "for w in words:\n",
    "    \n",
    "    chs = ['<S>'] + list(w) + ['<E>']\n",
    "    \n",
    "    # zip() generate the [2-consecutive characters]\n",
    "    for ch1, ch2  in zip(chs, chs[1:]):\n",
    "        \n",
    "        bigram    = (ch1, ch2)\n",
    "        \n",
    "        # [2-consecutive characters]\n",
    "        # used as key to count the occurence frequency\n",
    "        b[bigram] = b.get(bigram, 0) + 1\n",
    "\n",
    "b"
   ]
  },
  {
   "cell_type": "code",
   "execution_count": null,
   "id": "28193df6-48fd-48ea-b38c-e344edad6cf1",
   "metadata": {},
   "outputs": [],
   "source": []
  },
  {
   "cell_type": "code",
   "execution_count": null,
   "id": "ba6b7906-9889-4972-9b46-883819bdbfb2",
   "metadata": {},
   "outputs": [],
   "source": [
    "# Sort the list by tuple count.\n",
    "\n",
    "sorted(\n",
    "    b.items(), \n",
    "    key     = lambda kv: kv[1],\n",
    "    reverse = True\n",
    ")"
   ]
  }
 ],
 "metadata": {
  "kernelspec": {
   "display_name": "Python 3 (ipykernel)",
   "language": "python",
   "name": "python3"
  },
  "language_info": {
   "codemirror_mode": {
    "name": "ipython",
    "version": 3
   },
   "file_extension": ".py",
   "mimetype": "text/x-python",
   "name": "python",
   "nbconvert_exporter": "python",
   "pygments_lexer": "ipython3",
   "version": "3.12.4"
  }
 },
 "nbformat": 4,
 "nbformat_minor": 5
}
