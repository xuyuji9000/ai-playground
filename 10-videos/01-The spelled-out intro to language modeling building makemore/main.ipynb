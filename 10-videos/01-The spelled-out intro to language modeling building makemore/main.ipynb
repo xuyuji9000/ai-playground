{
 "cells": [
  {
   "cell_type": "markdown",
   "id": "15ea1cc0-23f4-49c7-b10b-2c3416fb03a5",
   "metadata": {},
   "source": [
    "Refer to GitHub repository [karpathy/makemore](https://github.com/karpathy/makemore).\n",
    "\n",
    "The data file **names.txt** can be found in it."
   ]
  },
  {
   "cell_type": "code",
   "execution_count": null,
   "id": "384a1f87-28a7-482b-8a8b-42cc8bb4c2a6",
   "metadata": {},
   "outputs": [],
   "source": [
    "# Load data \n",
    "\n",
    "words = open('./data/names.txt', 'r').read().splitlines()\n",
    "\n",
    "len(words)"
   ]
  },
  {
   "cell_type": "code",
   "execution_count": null,
   "id": "7cf668bf-565a-4a19-955d-22a5a2295b43",
   "metadata": {},
   "outputs": [],
   "source": [
    "# Here it uses Python generator feature\n",
    "# And applies the len() function to each element of the generator\n",
    "\n",
    "min(len(w) for w in words)"
   ]
  },
  {
   "cell_type": "code",
   "execution_count": null,
   "id": "dd9ed466-9bb6-483d-8861-3f5e1a530aec",
   "metadata": {},
   "outputs": [],
   "source": [
    "max(len(w) for w in words)"
   ]
  },
  {
   "cell_type": "code",
   "execution_count": null,
   "id": "0aad8e31-e415-4195-8b81-bc2fbfdd82a1",
   "metadata": {},
   "outputs": [],
   "source": [
    "# zip() function stops iterating when the shortest iterable is exhausted.\n",
    "b = {}\n",
    "for w in words:\n",
    "    \n",
    "    chs = ['<S>'] + list(w) + ['<E>']\n",
    "    \n",
    "    for ch1, ch2  in zip(chs, chs[1:]):\n",
    "        bigram    = (ch1, ch2)\n",
    "        b[bigram] = b.get(bigram, 0) + 1\n",
    "        "
   ]
  },
  {
   "cell_type": "code",
   "execution_count": null,
   "id": "ba6b7906-9889-4972-9b46-883819bdbfb2",
   "metadata": {},
   "outputs": [],
   "source": [
    "# Sort the list by tuple count.\n",
    "\n",
    "sorted(\n",
    "    b.items(), \n",
    "    key     = lambda kv: kv[1],\n",
    "    reverse = True\n",
    ")"
   ]
  }
 ],
 "metadata": {
  "kernelspec": {
   "display_name": "Python 3 (ipykernel)",
   "language": "python",
   "name": "python3"
  },
  "language_info": {
   "codemirror_mode": {
    "name": "ipython",
    "version": 3
   },
   "file_extension": ".py",
   "mimetype": "text/x-python",
   "name": "python",
   "nbconvert_exporter": "python",
   "pygments_lexer": "ipython3",
   "version": "3.12.4"
  }
 },
 "nbformat": 4,
 "nbformat_minor": 5
}
