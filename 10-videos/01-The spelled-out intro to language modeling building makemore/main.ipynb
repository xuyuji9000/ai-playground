{
 "cells": [
  {
   "cell_type": "markdown",
   "id": "15ea1cc0-23f4-49c7-b10b-2c3416fb03a5",
   "metadata": {},
   "source": [
    "Refer to GitHub repository [karpathy/makemore](https://github.com/karpathy/makemore).\n",
    "\n",
    "The data file **names.txt** can be found in it."
   ]
  },
  {
   "cell_type": "code",
   "execution_count": 6,
   "id": "384a1f87-28a7-482b-8a8b-42cc8bb4c2a6",
   "metadata": {},
   "outputs": [
    {
     "data": {
      "text/plain": [
       "32033"
      ]
     },
     "execution_count": 6,
     "metadata": {},
     "output_type": "execute_result"
    }
   ],
   "source": [
    "# Load data \n",
    "\n",
    "words = open('./data/names.txt', 'r').read().splitlines()\n",
    "\n",
    "len(words)"
   ]
  },
  {
   "cell_type": "code",
   "execution_count": 16,
   "id": "7cf668bf-565a-4a19-955d-22a5a2295b43",
   "metadata": {},
   "outputs": [
    {
     "data": {
      "text/plain": [
       "2"
      ]
     },
     "execution_count": 16,
     "metadata": {},
     "output_type": "execute_result"
    }
   ],
   "source": [
    "# Here it uses Python generator feature\n",
    "# And applies the len() function to each element of the generator\n",
    "\n",
    "min(len(w) for w in words)"
   ]
  },
  {
   "cell_type": "code",
   "execution_count": 13,
   "id": "dd9ed466-9bb6-483d-8861-3f5e1a530aec",
   "metadata": {},
   "outputs": [
    {
     "data": {
      "text/plain": [
       "15"
      ]
     },
     "execution_count": 13,
     "metadata": {},
     "output_type": "execute_result"
    }
   ],
   "source": [
    "max(len(w) for w in words)"
   ]
  }
 ],
 "metadata": {
  "kernelspec": {
   "display_name": "Python 3 (ipykernel)",
   "language": "python",
   "name": "python3"
  },
  "language_info": {
   "codemirror_mode": {
    "name": "ipython",
    "version": 3
   },
   "file_extension": ".py",
   "mimetype": "text/x-python",
   "name": "python",
   "nbconvert_exporter": "python",
   "pygments_lexer": "ipython3",
   "version": "3.12.4"
  }
 },
 "nbformat": 4,
 "nbformat_minor": 5
}
