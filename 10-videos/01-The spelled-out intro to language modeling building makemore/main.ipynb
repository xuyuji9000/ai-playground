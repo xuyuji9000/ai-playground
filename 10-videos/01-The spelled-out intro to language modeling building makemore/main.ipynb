{
 "cells": [
  {
   "cell_type": "markdown",
   "id": "15ea1cc0-23f4-49c7-b10b-2c3416fb03a5",
   "metadata": {},
   "source": [
    "YouTube video: [The spelled-out intro to language modeling: building makemore](https://www.youtube.com/watch?v=PaCmpygFfXo)\n",
    "\n",
    "GitHub repository: [karpathy/makemore](https://github.com/karpathy/makemore).\n",
    "> The data file **names.txt** can be found in it."
   ]
  },
  {
   "cell_type": "code",
   "execution_count": 1,
   "id": "384a1f87-28a7-482b-8a8b-42cc8bb4c2a6",
   "metadata": {},
   "outputs": [
    {
     "data": {
      "text/plain": [
       "32033"
      ]
     },
     "execution_count": 1,
     "metadata": {},
     "output_type": "execute_result"
    }
   ],
   "source": [
    "# Load data \n",
    "\n",
    "words = open('./data/names.txt', 'r').read().splitlines()\n",
    "\n",
    "len(words)"
   ]
  },
  {
   "cell_type": "code",
   "execution_count": 2,
   "id": "7cf668bf-565a-4a19-955d-22a5a2295b43",
   "metadata": {},
   "outputs": [
    {
     "data": {
      "text/plain": [
       "2"
      ]
     },
     "execution_count": 2,
     "metadata": {},
     "output_type": "execute_result"
    }
   ],
   "source": [
    "# Here it uses Python generator feature\n",
    "# And applies the len() function to each element of the generator\n",
    "\n",
    "min(len(w) for w in words)"
   ]
  },
  {
   "cell_type": "code",
   "execution_count": 3,
   "id": "dd9ed466-9bb6-483d-8861-3f5e1a530aec",
   "metadata": {},
   "outputs": [
    {
     "data": {
      "text/plain": [
       "15"
      ]
     },
     "execution_count": 3,
     "metadata": {},
     "output_type": "execute_result"
    }
   ],
   "source": [
    "max(len(w) for w in words)"
   ]
  },
  {
   "cell_type": "code",
   "execution_count": 5,
   "id": "82e9c9a6-9822-47d6-8b15-4ea1cae3d943",
   "metadata": {},
   "outputs": [],
   "source": [
    "import torch"
   ]
  },
  {
   "cell_type": "code",
   "execution_count": 7,
   "id": "783b1594-73ba-4116-9f29-6c612b67d1d1",
   "metadata": {},
   "outputs": [],
   "source": [
    "# Feature:\n",
    "#    Prepare the character lookups\n",
    "\n",
    "chars = sorted(list(set(''.join(words))))\n",
    "\n",
    "stoi = { s:i for i, s in enumerate(chars)}\n",
    "stoi['<S>'] = 26\n",
    "stoi['<E>'] = 27\n",
    "\n"
   ]
  },
  {
   "cell_type": "markdown",
   "id": "f8453e46-f63a-4591-94f7-cc49483a64f7",
   "metadata": {},
   "source": [
    "\n",
    "\n",
    "# Feature\n",
    "\n",
    "    Count the [2-consecutive characters] occurance in the word list\n",
    "\n",
    "# Algorithm Explanation\n",
    "\n",
    "```\n",
    "    Loop through [word list]\n",
    "       Convert [word] from string to [word character list]\n",
    "       Add special start character '<S>' to the beginning of [word character list]\n",
    "       Add special end   character '<E>' to the end       of [word character list]\n",
    "\n",
    "       Iterate through a [word character list] with [2-consecutive characters].\n",
    "       Use a tuple to describe the [2-consecutive characters].\n",
    "       This tuple is used as key to count the occurence frequency of the [2-consecutive characters]\n",
    "       A dictionary collects the key:value pairs as follow\n",
    "           { \n",
    "               [2-consecutive characters]: occurence frequency,\n",
    "           }\n",
    "```\n",
    "\n",
    "\n",
    "# Syntax Explanation\n",
    "\n",
    "    1. list(string) \n",
    "\n",
    " \n",
    "       list function apply to a string, breaks the string into a list with constituting characters\n",
    "\n",
    "    3. zip() function \n",
    "\n",
    " \n",
    "       stops iterating when the shortest iterable is exhausted.\n",
    "\n",
    "# YouTube video time duration\n",
    "\n",
    "    06:25 - 12:50"
   ]
  },
  {
   "cell_type": "code",
   "execution_count": 10,
   "id": "d4d231a9-bd97-4f3f-b1e1-edd9ca7bdf4e",
   "metadata": {},
   "outputs": [],
   "source": [
    "# Feature:\n",
    "#    Keep the [2-consecutive characters] count information in an array\n",
    "#    Instead of Python dictionary\n",
    "\n",
    "# 28 by 28 array, \n",
    "# 26 characters + 2 special characters\n",
    "\n",
    "N = torch.zeros((28,28), dtype=torch.int32)"
   ]
  },
  {
   "cell_type": "code",
   "execution_count": 11,
   "id": "d0cbdf7c-b847-4733-b41e-cb78f8bb52dd",
   "metadata": {},
   "outputs": [
    {
     "data": {
      "text/plain": [
       "torch.Size([28, 28])"
      ]
     },
     "execution_count": 11,
     "metadata": {},
     "output_type": "execute_result"
    }
   ],
   "source": [
    "for w in words:\n",
    "    \n",
    "    chs = ['<S>'] + list(w) + ['<E>']\n",
    "    \n",
    "    # zip() generate the [2-consecutive characters]\n",
    "    for ch1, ch2  in zip(chs, chs[1:]):\n",
    "\n",
    "        ix1 = stoi[ch1]\n",
    "        ix2 = stoi[ch2]\n",
    "\n",
    "        N[ix1, ix2] +=1\n",
    "\n",
    "N.shape"
   ]
  },
  {
   "cell_type": "code",
   "execution_count": 12,
   "id": "e94e4aef-4295-4381-9e00-acb3396afe2f",
   "metadata": {},
   "outputs": [
    {
     "data": {
      "text/plain": [
       "<matplotlib.image.AxesImage at 0x11acd9ca0>"
      ]
     },
     "execution_count": 12,
     "metadata": {},
     "output_type": "execute_result"
    },
    {
     "data": {
      "image/png": "[encoded data removed]",
      "text/plain": [
       "<Figure size 640x480 with 1 Axes>"
      ]
     },
     "metadata": {},
     "output_type": "display_data"
    }
   ],
   "source": [
    "import matplotlib.pyplot as plt\n",
    "\n",
    "%matplotlib inline\n",
    "plt.imshow(N)"
   ]
  }
 ],
 "metadata": {
  "kernelspec": {
   "display_name": "Python 3 (ipykernel)",
   "language": "python",
   "name": "python3"
  },
  "language_info": {
   "codemirror_mode": {
    "name": "ipython",
    "version": 3
   },
   "file_extension": ".py",
   "mimetype": "text/x-python",
   "name": "python",
   "nbconvert_exporter": "python",
   "pygments_lexer": "ipython3",
   "version": "3.12.4"
  }
 },
 "nbformat": 4,
 "nbformat_minor": 5
}
