{
 "cells": [
  {
   "cell_type": "code",
   "execution_count": 1,
   "id": "3c5749cb-710c-446b-b5f7-bbcebceb8b40",
   "metadata": {},
   "outputs": [],
   "source": [
    "import torch\n",
    "from torch import nn"
   ]
  },
  {
   "cell_type": "code",
   "execution_count": 2,
   "id": "34be153b-8c8a-4175-bf3c-8f786a60957e",
   "metadata": {},
   "outputs": [],
   "source": [
    "# 1. Choose the hardware accelerator to use\n",
    "\n",
    "# torch.backends.mps.is_available()\n",
    "device = 'mps'"
   ]
  },
  {
   "cell_type": "code",
   "execution_count": 3,
   "id": "6c0cb39a-db7a-4072-8104-53629f79867d",
   "metadata": {},
   "outputs": [],
   "source": [
    "# 2. Define the model\n",
    "\n",
    "class NeuralNetwork(nn.Module):\n",
    "    def __init__(self):\n",
    "        super().__init__()\n",
    "        \n",
    "        self.flatten = nn.Flatten()\n",
    "\n",
    "        self.linear_relu_stack = nn.Sequential(\n",
    "            nn.Linear(28*28, 512),\n",
    "            nn.ReLU(),\n",
    "            nn.Linear(512, 512),\n",
    "            nn.ReLU(),\n",
    "            nn.Linear(512, 10)\n",
    "            \n",
    "        )\n",
    "\n",
    "    def forward(self, x):\n",
    "        x = self.flatten(x)\n",
    "        \n",
    "        logits = self.linear_relu_stack(x)\n",
    "        \n",
    "        return logits\n"
   ]
  },
  {
   "cell_type": "code",
   "execution_count": 4,
   "id": "cce104a5-8fcd-462f-9da7-98ee6df4bfd0",
   "metadata": {},
   "outputs": [
    {
     "name": "stdout",
     "output_type": "stream",
     "text": [
      "NeuralNetwork(\n",
      "  (flatten): Flatten(start_dim=1, end_dim=-1)\n",
      "  (linear_relu_stack): Sequential(\n",
      "    (0): Linear(in_features=784, out_features=512, bias=True)\n",
      "    (1): ReLU()\n",
      "    (2): Linear(in_features=512, out_features=512, bias=True)\n",
      "    (3): ReLU()\n",
      "    (4): Linear(in_features=512, out_features=10, bias=True)\n",
      "  )\n",
      ")\n",
      "----------linear_relu_stack.0.weight----------\n",
      "torch.Size([512, 784])\n",
      "tensor([[ 0.0132,  0.0353,  0.0352,  ..., -0.0169,  0.0142, -0.0240],\n",
      "        [-0.0274, -0.0135, -0.0336,  ..., -0.0033, -0.0265, -0.0347]],\n",
      "       device='mps:0', grad_fn=<SliceBackward0>)\n",
      "----------linear_relu_stack.0.bias----------\n",
      "torch.Size([512])\n",
      "tensor([-0.0069, -0.0134], device='mps:0', grad_fn=<SliceBackward0>)\n",
      "----------linear_relu_stack.2.weight----------\n",
      "torch.Size([512, 512])\n",
      "tensor([[ 0.0177, -0.0381,  0.0387,  ...,  0.0430,  0.0100, -0.0172],\n",
      "        [-0.0284, -0.0271,  0.0421,  ..., -0.0205, -0.0070,  0.0066]],\n",
      "       device='mps:0', grad_fn=<SliceBackward0>)\n",
      "----------linear_relu_stack.2.bias----------\n",
      "torch.Size([512])\n",
      "tensor([0.0184, 0.0166], device='mps:0', grad_fn=<SliceBackward0>)\n",
      "----------linear_relu_stack.4.weight----------\n",
      "torch.Size([10, 512])\n",
      "tensor([[-0.0235,  0.0244, -0.0162,  ..., -0.0239,  0.0293,  0.0425],\n",
      "        [ 0.0277, -0.0038, -0.0027,  ...,  0.0432,  0.0407, -0.0194]],\n",
      "       device='mps:0', grad_fn=<SliceBackward0>)\n",
      "----------linear_relu_stack.4.bias----------\n",
      "torch.Size([10])\n",
      "tensor([ 0.0434, -0.0020], device='mps:0', grad_fn=<SliceBackward0>)\n"
     ]
    }
   ],
   "source": [
    "# 3. Initialize the model\n",
    "\n",
    "model = NeuralNetwork().to(device)\n",
    "\n",
    "print(model)\n",
    "\n",
    "for name, param in model.named_parameters():\n",
    "    print(f'----------{name}----------')\n",
    "    print(param.shape)\n",
    "    print(param[:2])"
   ]
  },
  {
   "cell_type": "code",
   "execution_count": 5,
   "id": "8e5ec13d-b38a-49e7-a4e6-ca3968b815b9",
   "metadata": {},
   "outputs": [
    {
     "name": "stdout",
     "output_type": "stream",
     "text": [
      "pred_probab: tensor([[0.0982, 0.0961, 0.1090, 0.0917, 0.0911, 0.1015, 0.1058, 0.1011, 0.1017,\n",
      "         0.1038]], device='mps:0', grad_fn=<SoftmaxBackward0>)\n",
      "pred_probab shape: torch.Size([1, 10])\n",
      "Predicted class: tensor([2], device='mps:0')\n"
     ]
    }
   ],
   "source": [
    "# 4. use the model for 1 case of prediction\n",
    "\n",
    "X = torch.rand(1,28,28, device=device)\n",
    "\n",
    "logits = model(X)\n",
    "\n",
    "\n",
    "pred_probab = nn.Softmax(dim=1)(logits)\n",
    "print(f'pred_probab: { pred_probab }')\n",
    "print(f'pred_probab shape: { pred_probab.shape }')\n",
    "y_pred = pred_probab.argmax(1)\n",
    "\n",
    "\n",
    "print(f\"Predicted class: {y_pred}\")"
   ]
  },
  {
   "cell_type": "code",
   "execution_count": 6,
   "id": "08026c88-0857-4091-9ee7-9cf3d976f593",
   "metadata": {},
   "outputs": [
    {
     "name": "stdout",
     "output_type": "stream",
     "text": [
      "tensor([[-0.8586,  1.3269,  0.2544, -0.7241],\n",
      "        [-0.4024,  1.4058, -0.6319,  0.3630],\n",
      "        [ 0.0155, -1.1597, -0.0358, -0.0931],\n",
      "        [-2.3221,  0.7368, -0.1445, -0.2449]])\n",
      "along dimension 0 (columns), max_indices_dim0: tensor([2, 1, 0, 1])\n",
      "along dimension 1 (rows), max_indices_dim1: tensor([1, 1, 0, 1])\n",
      "max_indices_keepdim: tensor([[1],\n",
      "        [1],\n",
      "        [0],\n",
      "        [1]])\n"
     ]
    }
   ],
   "source": [
    "# 5. check torch.argmax function's dim parameter impact\n",
    "# on the result of the function\n",
    "\n",
    "import torch\n",
    "\n",
    "# Create a random 2D tensor\n",
    "a = torch.randn(4, 4)\n",
    "\n",
    "print(a)\n",
    "\n",
    "# Get the indices of the maximum values along dimension 0 (columns)\n",
    "max_indices_dim0 = torch.argmax(a, dim=0)\n",
    "\n",
    "# Get the indices of the maximum values along dimension 1 (rows)\n",
    "max_indices_dim1 = torch.argmax(a, dim=1)\n",
    "\n",
    "# Using keepdim\n",
    "max_indices_keepdim = torch.argmax(a, dim=1, keepdim=True)\n",
    "\n",
    "print(f'along dimension 0 (columns), max_indices_dim0: { max_indices_dim0 }')\n",
    "print(f'along dimension 1 (rows), max_indices_dim1: { max_indices_dim1 }')\n",
    "print(f'max_indices_keepdim: { max_indices_keepdim }')"
   ]
  }
 ],
 "metadata": {
  "kernelspec": {
   "display_name": "Python 3 (ipykernel)",
   "language": "python",
   "name": "python3"
  },
  "language_info": {
   "codemirror_mode": {
    "name": "ipython",
    "version": 3
   },
   "file_extension": ".py",
   "mimetype": "text/x-python",
   "name": "python",
   "nbconvert_exporter": "python",
   "pygments_lexer": "ipython3",
   "version": "3.12.7"
  }
 },
 "nbformat": 4,
 "nbformat_minor": 5
}
